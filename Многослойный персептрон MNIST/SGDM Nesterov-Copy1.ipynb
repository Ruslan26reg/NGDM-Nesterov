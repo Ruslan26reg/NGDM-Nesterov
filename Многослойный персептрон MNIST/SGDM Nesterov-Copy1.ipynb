{
 "cells": [
  {
   "cell_type": "code",
   "execution_count": 1,
   "id": "a6287e1d",
   "metadata": {},
   "outputs": [
    {
     "name": "stderr",
     "output_type": "stream",
     "text": [
      "2022-07-06 15:51:42.221696: W tensorflow/stream_executor/platform/default/dso_loader.cc:64] Could not load dynamic library 'libcudart.so.11.0'; dlerror: libcudart.so.11.0: cannot open shared object file: No such file or directory\n",
      "2022-07-06 15:51:42.221731: I tensorflow/stream_executor/cuda/cudart_stub.cc:29] Ignore above cudart dlerror if you do not have a GPU set up on your machine.\n"
     ]
    }
   ],
   "source": [
    "from tensorflow import keras\n",
    "import tensorflow as tf \n",
    "# Common imports\n",
    "import os\n",
    "import numpy as np\n",
    "\n",
    "from tensorflow.keras.models import Sequential\n",
    "from tensorflow.keras.layers import Flatten\n",
    "from tensorflow.keras.layers import Dense, Dropout\n",
    "from tensorflow.keras.layers import Activation\n",
    "from tensorflow.keras.layers import BatchNormalization"
   ]
  },
  {
   "cell_type": "code",
   "execution_count": 2,
   "id": "94d9495b",
   "metadata": {},
   "outputs": [],
   "source": [
    "from Apollo_tf import*\n",
    "from ngd import*"
   ]
  },
  {
   "cell_type": "code",
   "execution_count": 3,
   "id": "c3254456",
   "metadata": {},
   "outputs": [],
   "source": [
    "(x_train, y_train), (x_test, y_test) = tf.keras.datasets.mnist.load_data()"
   ]
  },
  {
   "cell_type": "code",
   "execution_count": 4,
   "id": "c853e3c5",
   "metadata": {},
   "outputs": [],
   "source": [
    "x_train = x_train.astype('float32')\n",
    "x_test = x_test.astype('float32')"
   ]
  },
  {
   "cell_type": "code",
   "execution_count": 5,
   "id": "bcfbe4a3",
   "metadata": {},
   "outputs": [],
   "source": [
    "gray_scale = 255\n",
    "x_train /= gray_scale\n",
    "x_test /= gray_scale"
   ]
  },
  {
   "cell_type": "code",
   "execution_count": 6,
   "id": "bd806726",
   "metadata": {},
   "outputs": [
    {
     "name": "stderr",
     "output_type": "stream",
     "text": [
      "2022-07-06 15:51:44.072835: W tensorflow/stream_executor/platform/default/dso_loader.cc:64] Could not load dynamic library 'libcuda.so.1'; dlerror: libcuda.so.1: cannot open shared object file: No such file or directory\n",
      "2022-07-06 15:51:44.072876: W tensorflow/stream_executor/cuda/cuda_driver.cc:269] failed call to cuInit: UNKNOWN ERROR (303)\n",
      "2022-07-06 15:51:44.072898: I tensorflow/stream_executor/cuda/cuda_diagnostics.cc:156] kernel driver does not appear to be running on this host (ruslan-Inspiron-5770): /proc/driver/nvidia/version does not exist\n",
      "2022-07-06 15:51:44.073107: I tensorflow/core/platform/cpu_feature_guard.cc:151] This TensorFlow binary is optimized with oneAPI Deep Neural Network Library (oneDNN) to use the following CPU instructions in performance-critical operations:  AVX2 FMA\n",
      "To enable them in other operations, rebuild TensorFlow with the appropriate compiler flags.\n"
     ]
    }
   ],
   "source": [
    "model = Sequential([\n",
    "    \n",
    "    # reshape 28 row * 28 column data to 28*28 rows\n",
    "    Flatten(input_shape=(28, 28)),\n",
    "    \n",
    "      # dense layer 1\n",
    "    Dense(512, activation='relu'),\n",
    "    BatchNormalization(),  \n",
    "    Dropout(0.2),\n",
    "    # dense layer 2\n",
    "    Dense(128, activation='relu'), \n",
    "    BatchNormalization(),  \n",
    "    Dropout(0.2),\n",
    "      # output layer\n",
    "    Dense(10, activation='softmax'),  \n",
    "])"
   ]
  },
  {
   "cell_type": "code",
   "execution_count": 7,
   "id": "2962bcc1",
   "metadata": {},
   "outputs": [],
   "source": [
    "optimizer = tf.keras.optimizers.SGD(learning_rate=0.1, momentum=0.9, nesterov = True)"
   ]
  },
  {
   "cell_type": "code",
   "execution_count": 8,
   "id": "42412d5d",
   "metadata": {},
   "outputs": [],
   "source": [
    "model.compile(optimizer=optimizer,\n",
    "              loss='sparse_categorical_crossentropy',\n",
    "              metrics=['accuracy'])"
   ]
  },
  {
   "cell_type": "code",
   "execution_count": 9,
   "id": "edf20316",
   "metadata": {},
   "outputs": [
    {
     "name": "stderr",
     "output_type": "stream",
     "text": [
      "2022-07-06 15:51:44.145142: W tensorflow/core/framework/cpu_allocator_impl.cc:82] Allocation of 150528000 exceeds 10% of free system memory.\n"
     ]
    },
    {
     "name": "stdout",
     "output_type": "stream",
     "text": [
      "Epoch 1/20\n",
      "24/24 [==============================] - 2s 55ms/step - loss: 0.5160 - accuracy: 0.8470 - val_loss: 0.6638 - val_accuracy: 0.8808\n",
      "Epoch 2/20\n",
      "24/24 [==============================] - 1s 53ms/step - loss: 0.1850 - accuracy: 0.9449 - val_loss: 0.5399 - val_accuracy: 0.9170\n",
      "Epoch 3/20\n",
      "24/24 [==============================] - 1s 47ms/step - loss: 0.1329 - accuracy: 0.9603 - val_loss: 0.4888 - val_accuracy: 0.9136\n",
      "Epoch 4/20\n",
      "24/24 [==============================] - 1s 46ms/step - loss: 0.1060 - accuracy: 0.9682 - val_loss: 0.4335 - val_accuracy: 0.9169\n",
      "Epoch 5/20\n",
      "24/24 [==============================] - 1s 46ms/step - loss: 0.0886 - accuracy: 0.9731 - val_loss: 0.3461 - val_accuracy: 0.9331\n",
      "Epoch 6/20\n",
      "24/24 [==============================] - 1s 46ms/step - loss: 0.0733 - accuracy: 0.9777 - val_loss: 0.2994 - val_accuracy: 0.9379\n",
      "Epoch 7/20\n",
      "24/24 [==============================] - 1s 47ms/step - loss: 0.0633 - accuracy: 0.9812 - val_loss: 0.2509 - val_accuracy: 0.9438\n",
      "Epoch 8/20\n",
      "24/24 [==============================] - 1s 48ms/step - loss: 0.0566 - accuracy: 0.9832 - val_loss: 0.1986 - val_accuracy: 0.9530\n",
      "Epoch 9/20\n",
      "24/24 [==============================] - 1s 49ms/step - loss: 0.0474 - accuracy: 0.9857 - val_loss: 0.1641 - val_accuracy: 0.9597\n",
      "Epoch 10/20\n",
      "24/24 [==============================] - 1s 48ms/step - loss: 0.0415 - accuracy: 0.9878 - val_loss: 0.1326 - val_accuracy: 0.9643\n",
      "Epoch 11/20\n",
      "24/24 [==============================] - 1s 48ms/step - loss: 0.0376 - accuracy: 0.9890 - val_loss: 0.1124 - val_accuracy: 0.9700\n",
      "Epoch 12/20\n",
      "24/24 [==============================] - 1s 49ms/step - loss: 0.0330 - accuracy: 0.9901 - val_loss: 0.0997 - val_accuracy: 0.9723\n",
      "Epoch 13/20\n",
      "24/24 [==============================] - 1s 49ms/step - loss: 0.0319 - accuracy: 0.9902 - val_loss: 0.0942 - val_accuracy: 0.9726\n",
      "Epoch 14/20\n",
      "24/24 [==============================] - 1s 49ms/step - loss: 0.0275 - accuracy: 0.9915 - val_loss: 0.0841 - val_accuracy: 0.9747\n",
      "Epoch 15/20\n",
      "24/24 [==============================] - 1s 49ms/step - loss: 0.0263 - accuracy: 0.9920 - val_loss: 0.0774 - val_accuracy: 0.9768\n",
      "Epoch 16/20\n",
      "24/24 [==============================] - 1s 49ms/step - loss: 0.0221 - accuracy: 0.9935 - val_loss: 0.0769 - val_accuracy: 0.9771\n",
      "Epoch 17/20\n",
      "24/24 [==============================] - 1s 49ms/step - loss: 0.0209 - accuracy: 0.9938 - val_loss: 0.0722 - val_accuracy: 0.9793\n",
      "Epoch 18/20\n",
      "24/24 [==============================] - 1s 49ms/step - loss: 0.0185 - accuracy: 0.9947 - val_loss: 0.0721 - val_accuracy: 0.9792\n",
      "Epoch 19/20\n",
      "24/24 [==============================] - 1s 49ms/step - loss: 0.0179 - accuracy: 0.9946 - val_loss: 0.0727 - val_accuracy: 0.9790\n",
      "Epoch 20/20\n",
      "24/24 [==============================] - 1s 48ms/step - loss: 0.0173 - accuracy: 0.9947 - val_loss: 0.0713 - val_accuracy: 0.9799\n",
      "313/313 [==============================] - 1s 2ms/step - loss: 0.0644 - accuracy: 0.9798\n"
     ]
    },
    {
     "data": {
      "text/plain": [
       "[0.06441907584667206, 0.9797999858856201]"
      ]
     },
     "execution_count": 9,
     "metadata": {},
     "output_type": "execute_result"
    }
   ],
   "source": [
    "history = model.fit(x_train, y_train, epochs=20, \n",
    "          batch_size=2000, \n",
    "          validation_split=0.2)\n",
    "model.evaluate(x_test, y_test)"
   ]
  }
 ],
 "metadata": {
  "kernelspec": {
   "display_name": "Python 3 (ipykernel)",
   "language": "python",
   "name": "python3"
  },
  "language_info": {
   "codemirror_mode": {
    "name": "ipython",
    "version": 3
   },
   "file_extension": ".py",
   "mimetype": "text/x-python",
   "name": "python",
   "nbconvert_exporter": "python",
   "pygments_lexer": "ipython3",
   "version": "3.9.7"
  }
 },
 "nbformat": 4,
 "nbformat_minor": 5
}
