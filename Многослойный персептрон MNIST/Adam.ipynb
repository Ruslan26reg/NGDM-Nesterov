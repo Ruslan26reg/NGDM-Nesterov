{
 "cells": [
  {
   "cell_type": "code",
   "execution_count": 1,
   "id": "a6287e1d",
   "metadata": {},
   "outputs": [
    {
     "name": "stderr",
     "output_type": "stream",
     "text": [
      "2022-06-10 22:57:51.837487: W tensorflow/stream_executor/platform/default/dso_loader.cc:64] Could not load dynamic library 'libcudart.so.11.0'; dlerror: libcudart.so.11.0: cannot open shared object file: No such file or directory\n",
      "2022-06-10 22:57:51.837516: I tensorflow/stream_executor/cuda/cudart_stub.cc:29] Ignore above cudart dlerror if you do not have a GPU set up on your machine.\n"
     ]
    }
   ],
   "source": [
    "from tensorflow import keras\n",
    "import tensorflow as tf \n",
    "# Common imports\n",
    "import os\n",
    "import numpy as np\n",
    "\n",
    "from tensorflow.keras.models import Sequential\n",
    "from tensorflow.keras.layers import Flatten\n",
    "from tensorflow.keras.layers import Dense, Dropout\n",
    "from tensorflow.keras.layers import Activation\n",
    "from tensorflow.keras.layers import BatchNormalization"
   ]
  },
  {
   "cell_type": "code",
   "execution_count": 2,
   "id": "94d9495b",
   "metadata": {},
   "outputs": [],
   "source": [
    "from Apollo_tf import*\n",
    "from ngd import*"
   ]
  },
  {
   "cell_type": "code",
   "execution_count": 3,
   "id": "c3254456",
   "metadata": {},
   "outputs": [],
   "source": [
    "(x_train, y_train), (x_test, y_test) = tf.keras.datasets.mnist.load_data()"
   ]
  },
  {
   "cell_type": "code",
   "execution_count": 4,
   "id": "c853e3c5",
   "metadata": {},
   "outputs": [],
   "source": [
    "x_train = x_train.astype('float32')\n",
    "x_test = x_test.astype('float32')"
   ]
  },
  {
   "cell_type": "code",
   "execution_count": 5,
   "id": "bcfbe4a3",
   "metadata": {},
   "outputs": [],
   "source": [
    "gray_scale = 255\n",
    "x_train /= gray_scale\n",
    "x_test /= gray_scale"
   ]
  },
  {
   "cell_type": "code",
   "execution_count": 6,
   "id": "bd806726",
   "metadata": {},
   "outputs": [
    {
     "name": "stderr",
     "output_type": "stream",
     "text": [
      "2022-06-10 22:57:53.820978: W tensorflow/stream_executor/platform/default/dso_loader.cc:64] Could not load dynamic library 'libcuda.so.1'; dlerror: libcuda.so.1: cannot open shared object file: No such file or directory\n",
      "2022-06-10 22:57:53.821008: W tensorflow/stream_executor/cuda/cuda_driver.cc:269] failed call to cuInit: UNKNOWN ERROR (303)\n",
      "2022-06-10 22:57:53.821026: I tensorflow/stream_executor/cuda/cuda_diagnostics.cc:156] kernel driver does not appear to be running on this host (ruslan-Inspiron-5770): /proc/driver/nvidia/version does not exist\n",
      "2022-06-10 22:57:53.821234: I tensorflow/core/platform/cpu_feature_guard.cc:151] This TensorFlow binary is optimized with oneAPI Deep Neural Network Library (oneDNN) to use the following CPU instructions in performance-critical operations:  AVX2 FMA\n",
      "To enable them in other operations, rebuild TensorFlow with the appropriate compiler flags.\n"
     ]
    }
   ],
   "source": [
    "model = Sequential([\n",
    "    \n",
    "    # reshape 28 row * 28 column data to 28*28 rows\n",
    "    Flatten(input_shape=(28, 28)),\n",
    "    \n",
    "      # dense layer 1\n",
    "    Dense(364, activation='relu'),\n",
    "    BatchNormalization(),  \n",
    "    Dropout(0.5),\n",
    "    # dense layer 2\n",
    "    Dense(52, activation='relu'), \n",
    "    BatchNormalization(),  \n",
    "    Dropout(0.5),\n",
    "      # output layer\n",
    "    Dense(10, activation='softmax'),  \n",
    "])"
   ]
  },
  {
   "cell_type": "code",
   "execution_count": 7,
   "id": "42412d5d",
   "metadata": {},
   "outputs": [],
   "source": [
    "model.compile(optimizer='adam',\n",
    "              loss='sparse_categorical_crossentropy',\n",
    "              metrics=['accuracy'])"
   ]
  },
  {
   "cell_type": "code",
   "execution_count": 8,
   "id": "edf20316",
   "metadata": {},
   "outputs": [
    {
     "name": "stderr",
     "output_type": "stream",
     "text": [
      "2022-06-10 22:57:53.893615: W tensorflow/core/framework/cpu_allocator_impl.cc:82] Allocation of 150528000 exceeds 10% of free system memory.\n"
     ]
    },
    {
     "name": "stdout",
     "output_type": "stream",
     "text": [
      "Epoch 1/20\n",
      "24/24 [==============================] - 2s 41ms/step - loss: 1.2816 - accuracy: 0.6064 - val_loss: 1.0012 - val_accuracy: 0.8345\n",
      "Epoch 2/20\n",
      "24/24 [==============================] - 1s 33ms/step - loss: 0.5569 - accuracy: 0.8364 - val_loss: 0.8067 - val_accuracy: 0.8591\n",
      "Epoch 3/20\n",
      "24/24 [==============================] - 1s 33ms/step - loss: 0.4338 - accuracy: 0.8765 - val_loss: 0.6654 - val_accuracy: 0.8911\n",
      "Epoch 4/20\n",
      "24/24 [==============================] - 1s 38ms/step - loss: 0.3659 - accuracy: 0.8971 - val_loss: 0.5663 - val_accuracy: 0.9032\n",
      "Epoch 5/20\n",
      "24/24 [==============================] - 1s 37ms/step - loss: 0.3168 - accuracy: 0.9112 - val_loss: 0.4554 - val_accuracy: 0.9227\n",
      "Epoch 6/20\n",
      "24/24 [==============================] - 1s 37ms/step - loss: 0.2789 - accuracy: 0.9225 - val_loss: 0.3697 - val_accuracy: 0.9358\n",
      "Epoch 7/20\n",
      "24/24 [==============================] - 1s 33ms/step - loss: 0.2510 - accuracy: 0.9297 - val_loss: 0.3060 - val_accuracy: 0.9476\n",
      "Epoch 8/20\n",
      "24/24 [==============================] - 1s 35ms/step - loss: 0.2276 - accuracy: 0.9363 - val_loss: 0.2454 - val_accuracy: 0.9541\n",
      "Epoch 9/20\n",
      "24/24 [==============================] - 1s 34ms/step - loss: 0.2099 - accuracy: 0.9401 - val_loss: 0.2068 - val_accuracy: 0.9553\n",
      "Epoch 10/20\n",
      "24/24 [==============================] - 1s 34ms/step - loss: 0.1917 - accuracy: 0.9475 - val_loss: 0.1782 - val_accuracy: 0.9589\n",
      "Epoch 11/20\n",
      "24/24 [==============================] - 1s 35ms/step - loss: 0.1732 - accuracy: 0.9521 - val_loss: 0.1501 - val_accuracy: 0.9641\n",
      "Epoch 12/20\n",
      "24/24 [==============================] - 1s 35ms/step - loss: 0.1650 - accuracy: 0.9530 - val_loss: 0.1386 - val_accuracy: 0.9634\n",
      "Epoch 13/20\n",
      "24/24 [==============================] - 1s 34ms/step - loss: 0.1554 - accuracy: 0.9571 - val_loss: 0.1225 - val_accuracy: 0.9666\n",
      "Epoch 14/20\n",
      "24/24 [==============================] - 1s 38ms/step - loss: 0.1445 - accuracy: 0.9592 - val_loss: 0.1134 - val_accuracy: 0.9688\n",
      "Epoch 15/20\n",
      "24/24 [==============================] - 1s 36ms/step - loss: 0.1356 - accuracy: 0.9620 - val_loss: 0.1052 - val_accuracy: 0.9707\n",
      "Epoch 16/20\n",
      "24/24 [==============================] - 1s 36ms/step - loss: 0.1262 - accuracy: 0.9642 - val_loss: 0.0993 - val_accuracy: 0.9714\n",
      "Epoch 17/20\n",
      "24/24 [==============================] - 1s 36ms/step - loss: 0.1209 - accuracy: 0.9660 - val_loss: 0.0949 - val_accuracy: 0.9730\n",
      "Epoch 18/20\n",
      "24/24 [==============================] - 1s 38ms/step - loss: 0.1179 - accuracy: 0.9667 - val_loss: 0.0914 - val_accuracy: 0.9735\n",
      "Epoch 19/20\n",
      "24/24 [==============================] - 1s 35ms/step - loss: 0.1088 - accuracy: 0.9698 - val_loss: 0.0882 - val_accuracy: 0.9744\n",
      "Epoch 20/20\n",
      "24/24 [==============================] - 1s 32ms/step - loss: 0.1036 - accuracy: 0.9698 - val_loss: 0.0866 - val_accuracy: 0.9749\n",
      "313/313 [==============================] - 1s 2ms/step - loss: 0.0809 - accuracy: 0.9757\n"
     ]
    },
    {
     "data": {
      "text/plain": [
       "[0.08094765990972519, 0.9757000207901001]"
      ]
     },
     "execution_count": 8,
     "metadata": {},
     "output_type": "execute_result"
    }
   ],
   "source": [
    "history = model.fit(x_train, y_train, epochs=20, \n",
    "          batch_size=2000, \n",
    "          validation_split=0.2)\n",
    "model.evaluate(x_test, y_test)"
   ]
  }
 ],
 "metadata": {
  "kernelspec": {
   "display_name": "Python 3 (ipykernel)",
   "language": "python",
   "name": "python3"
  },
  "language_info": {
   "codemirror_mode": {
    "name": "ipython",
    "version": 3
   },
   "file_extension": ".py",
   "mimetype": "text/x-python",
   "name": "python",
   "nbconvert_exporter": "python",
   "pygments_lexer": "ipython3",
   "version": "3.9.7"
  }
 },
 "nbformat": 4,
 "nbformat_minor": 5
}
