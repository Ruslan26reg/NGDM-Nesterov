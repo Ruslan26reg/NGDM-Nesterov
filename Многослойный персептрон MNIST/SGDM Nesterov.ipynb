{
 "cells": [
  {
   "cell_type": "code",
   "execution_count": 1,
   "id": "a6287e1d",
   "metadata": {},
   "outputs": [
    {
     "name": "stderr",
     "output_type": "stream",
     "text": [
      "2022-06-10 22:57:00.377543: W tensorflow/stream_executor/platform/default/dso_loader.cc:64] Could not load dynamic library 'libcudart.so.11.0'; dlerror: libcudart.so.11.0: cannot open shared object file: No such file or directory\n",
      "2022-06-10 22:57:00.377572: I tensorflow/stream_executor/cuda/cudart_stub.cc:29] Ignore above cudart dlerror if you do not have a GPU set up on your machine.\n"
     ]
    }
   ],
   "source": [
    "from tensorflow import keras\n",
    "import tensorflow as tf \n",
    "# Common imports\n",
    "import os\n",
    "import numpy as np\n",
    "\n",
    "from tensorflow.keras.models import Sequential\n",
    "from tensorflow.keras.layers import Flatten\n",
    "from tensorflow.keras.layers import Dense, Dropout\n",
    "from tensorflow.keras.layers import Activation\n",
    "from tensorflow.keras.layers import BatchNormalization"
   ]
  },
  {
   "cell_type": "code",
   "execution_count": 2,
   "id": "94d9495b",
   "metadata": {},
   "outputs": [],
   "source": [
    "from Apollo_tf import*\n",
    "from ngd import*"
   ]
  },
  {
   "cell_type": "code",
   "execution_count": 3,
   "id": "c3254456",
   "metadata": {},
   "outputs": [],
   "source": [
    "(x_train, y_train), (x_test, y_test) = tf.keras.datasets.mnist.load_data()"
   ]
  },
  {
   "cell_type": "code",
   "execution_count": 4,
   "id": "c853e3c5",
   "metadata": {},
   "outputs": [],
   "source": [
    "x_train = x_train.astype('float32')\n",
    "x_test = x_test.astype('float32')"
   ]
  },
  {
   "cell_type": "code",
   "execution_count": 5,
   "id": "bcfbe4a3",
   "metadata": {},
   "outputs": [],
   "source": [
    "gray_scale = 255\n",
    "x_train /= gray_scale\n",
    "x_test /= gray_scale"
   ]
  },
  {
   "cell_type": "code",
   "execution_count": 6,
   "id": "bd806726",
   "metadata": {},
   "outputs": [
    {
     "name": "stderr",
     "output_type": "stream",
     "text": [
      "2022-06-10 22:57:02.441025: W tensorflow/stream_executor/platform/default/dso_loader.cc:64] Could not load dynamic library 'libcuda.so.1'; dlerror: libcuda.so.1: cannot open shared object file: No such file or directory\n",
      "2022-06-10 22:57:02.441060: W tensorflow/stream_executor/cuda/cuda_driver.cc:269] failed call to cuInit: UNKNOWN ERROR (303)\n",
      "2022-06-10 22:57:02.441083: I tensorflow/stream_executor/cuda/cuda_diagnostics.cc:156] kernel driver does not appear to be running on this host (ruslan-Inspiron-5770): /proc/driver/nvidia/version does not exist\n",
      "2022-06-10 22:57:02.441300: I tensorflow/core/platform/cpu_feature_guard.cc:151] This TensorFlow binary is optimized with oneAPI Deep Neural Network Library (oneDNN) to use the following CPU instructions in performance-critical operations:  AVX2 FMA\n",
      "To enable them in other operations, rebuild TensorFlow with the appropriate compiler flags.\n"
     ]
    }
   ],
   "source": [
    "model = Sequential([\n",
    "    \n",
    "    # reshape 28 row * 28 column data to 28*28 rows\n",
    "    Flatten(input_shape=(28, 28)),\n",
    "    \n",
    "      # dense layer 1\n",
    "    Dense(364, activation='relu'),\n",
    "    BatchNormalization(),  \n",
    "    Dropout(0.5),\n",
    "    # dense layer 2\n",
    "    Dense(52, activation='relu'), \n",
    "    BatchNormalization(),  \n",
    "    Dropout(0.5),\n",
    "      # output layer\n",
    "    Dense(10, activation='softmax'),  \n",
    "])"
   ]
  },
  {
   "cell_type": "code",
   "execution_count": 7,
   "id": "2962bcc1",
   "metadata": {},
   "outputs": [],
   "source": [
    "optimizer = tf.keras.optimizers.SGD(learning_rate=0.1, momentum=0.99, nesterov = True)"
   ]
  },
  {
   "cell_type": "code",
   "execution_count": 8,
   "id": "42412d5d",
   "metadata": {},
   "outputs": [],
   "source": [
    "model.compile(optimizer=optimizer,\n",
    "              loss='sparse_categorical_crossentropy',\n",
    "              metrics=['accuracy'])"
   ]
  },
  {
   "cell_type": "code",
   "execution_count": 9,
   "id": "edf20316",
   "metadata": {},
   "outputs": [
    {
     "name": "stderr",
     "output_type": "stream",
     "text": [
      "2022-06-10 22:57:02.530219: W tensorflow/core/framework/cpu_allocator_impl.cc:82] Allocation of 150528000 exceeds 10% of free system memory.\n"
     ]
    },
    {
     "name": "stdout",
     "output_type": "stream",
     "text": [
      "Epoch 1/20\n",
      "24/24 [==============================] - 2s 43ms/step - loss: 0.8886 - accuracy: 0.7324 - val_loss: 0.6781 - val_accuracy: 0.8123\n",
      "Epoch 2/20\n",
      "24/24 [==============================] - 1s 35ms/step - loss: 0.4638 - accuracy: 0.8674 - val_loss: 0.5102 - val_accuracy: 0.8872\n",
      "Epoch 3/20\n",
      "24/24 [==============================] - 1s 39ms/step - loss: 0.3747 - accuracy: 0.8947 - val_loss: 0.3724 - val_accuracy: 0.9116\n",
      "Epoch 4/20\n",
      "24/24 [==============================] - 1s 33ms/step - loss: 0.3173 - accuracy: 0.9099 - val_loss: 0.2771 - val_accuracy: 0.9324\n",
      "Epoch 5/20\n",
      "24/24 [==============================] - 1s 35ms/step - loss: 0.2829 - accuracy: 0.9199 - val_loss: 0.2556 - val_accuracy: 0.9409\n",
      "Epoch 6/20\n",
      "24/24 [==============================] - 1s 34ms/step - loss: 0.2596 - accuracy: 0.9248 - val_loss: 0.2310 - val_accuracy: 0.9481\n",
      "Epoch 7/20\n",
      "24/24 [==============================] - 1s 35ms/step - loss: 0.2449 - accuracy: 0.9307 - val_loss: 0.1951 - val_accuracy: 0.9523\n",
      "Epoch 8/20\n",
      "24/24 [==============================] - 1s 35ms/step - loss: 0.2278 - accuracy: 0.9356 - val_loss: 0.1729 - val_accuracy: 0.9559\n",
      "Epoch 9/20\n",
      "24/24 [==============================] - 1s 34ms/step - loss: 0.2156 - accuracy: 0.9390 - val_loss: 0.1601 - val_accuracy: 0.9593\n",
      "Epoch 10/20\n",
      "24/24 [==============================] - 1s 35ms/step - loss: 0.2075 - accuracy: 0.9411 - val_loss: 0.1498 - val_accuracy: 0.9605\n",
      "Epoch 11/20\n",
      "24/24 [==============================] - 1s 39ms/step - loss: 0.1989 - accuracy: 0.9429 - val_loss: 0.1383 - val_accuracy: 0.9628\n",
      "Epoch 12/20\n",
      "24/24 [==============================] - 1s 34ms/step - loss: 0.1888 - accuracy: 0.9459 - val_loss: 0.1315 - val_accuracy: 0.9647\n",
      "Epoch 13/20\n",
      "24/24 [==============================] - 1s 35ms/step - loss: 0.1855 - accuracy: 0.9472 - val_loss: 0.1273 - val_accuracy: 0.9650\n",
      "Epoch 14/20\n",
      "24/24 [==============================] - 1s 36ms/step - loss: 0.1732 - accuracy: 0.9498 - val_loss: 0.1214 - val_accuracy: 0.9667\n",
      "Epoch 15/20\n",
      "24/24 [==============================] - 1s 34ms/step - loss: 0.1727 - accuracy: 0.9505 - val_loss: 0.1180 - val_accuracy: 0.9678\n",
      "Epoch 16/20\n",
      "24/24 [==============================] - 1s 34ms/step - loss: 0.1667 - accuracy: 0.9528 - val_loss: 0.1159 - val_accuracy: 0.9672\n",
      "Epoch 17/20\n",
      "24/24 [==============================] - 1s 35ms/step - loss: 0.1600 - accuracy: 0.9543 - val_loss: 0.1116 - val_accuracy: 0.9688\n",
      "Epoch 18/20\n",
      "24/24 [==============================] - 1s 39ms/step - loss: 0.1563 - accuracy: 0.9549 - val_loss: 0.1085 - val_accuracy: 0.9690\n",
      "Epoch 19/20\n",
      "24/24 [==============================] - 1s 37ms/step - loss: 0.1505 - accuracy: 0.9560 - val_loss: 0.1079 - val_accuracy: 0.9682\n",
      "Epoch 20/20\n",
      "24/24 [==============================] - 1s 34ms/step - loss: 0.1450 - accuracy: 0.9586 - val_loss: 0.1049 - val_accuracy: 0.9703\n",
      "313/313 [==============================] - 1s 2ms/step - loss: 0.1055 - accuracy: 0.9687\n"
     ]
    },
    {
     "data": {
      "text/plain": [
       "[0.10554194450378418, 0.9686999917030334]"
      ]
     },
     "execution_count": 9,
     "metadata": {},
     "output_type": "execute_result"
    }
   ],
   "source": [
    "history = model.fit(x_train, y_train, epochs=20, \n",
    "          batch_size=2000, \n",
    "          validation_split=0.2)\n",
    "model.evaluate(x_test, y_test)"
   ]
  }
 ],
 "metadata": {
  "kernelspec": {
   "display_name": "Python 3 (ipykernel)",
   "language": "python",
   "name": "python3"
  },
  "language_info": {
   "codemirror_mode": {
    "name": "ipython",
    "version": 3
   },
   "file_extension": ".py",
   "mimetype": "text/x-python",
   "name": "python",
   "nbconvert_exporter": "python",
   "pygments_lexer": "ipython3",
   "version": "3.9.7"
  }
 },
 "nbformat": 4,
 "nbformat_minor": 5
}
