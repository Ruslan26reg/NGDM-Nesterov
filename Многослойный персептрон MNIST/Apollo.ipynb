{
 "cells": [
  {
   "cell_type": "code",
   "execution_count": 1,
   "id": "a6287e1d",
   "metadata": {},
   "outputs": [
    {
     "name": "stderr",
     "output_type": "stream",
     "text": [
      "2022-06-10 22:55:11.199008: W tensorflow/stream_executor/platform/default/dso_loader.cc:64] Could not load dynamic library 'libcudart.so.11.0'; dlerror: libcudart.so.11.0: cannot open shared object file: No such file or directory\n",
      "2022-06-10 22:55:11.199038: I tensorflow/stream_executor/cuda/cudart_stub.cc:29] Ignore above cudart dlerror if you do not have a GPU set up on your machine.\n"
     ]
    }
   ],
   "source": [
    "from tensorflow import keras\n",
    "import tensorflow as tf \n",
    "# Common imports\n",
    "import os\n",
    "import numpy as np\n",
    "\n",
    "from tensorflow.keras.models import Sequential\n",
    "from tensorflow.keras.layers import Flatten\n",
    "from tensorflow.keras.layers import Dense, Dropout\n",
    "from tensorflow.keras.layers import Activation\n",
    "from tensorflow.keras.layers import BatchNormalization"
   ]
  },
  {
   "cell_type": "code",
   "execution_count": 2,
   "id": "94d9495b",
   "metadata": {},
   "outputs": [],
   "source": [
    "from Apollo_tf import*\n",
    "from ngd import*"
   ]
  },
  {
   "cell_type": "code",
   "execution_count": 3,
   "id": "c3254456",
   "metadata": {},
   "outputs": [],
   "source": [
    "(x_train, y_train), (x_test, y_test) = tf.keras.datasets.mnist.load_data()"
   ]
  },
  {
   "cell_type": "code",
   "execution_count": 4,
   "id": "c853e3c5",
   "metadata": {},
   "outputs": [],
   "source": [
    "x_train = x_train.astype('float32')\n",
    "x_test = x_test.astype('float32')"
   ]
  },
  {
   "cell_type": "code",
   "execution_count": 5,
   "id": "bcfbe4a3",
   "metadata": {},
   "outputs": [],
   "source": [
    "gray_scale = 255\n",
    "x_train /= gray_scale\n",
    "x_test /= gray_scale"
   ]
  },
  {
   "cell_type": "code",
   "execution_count": 6,
   "id": "bd806726",
   "metadata": {},
   "outputs": [
    {
     "name": "stderr",
     "output_type": "stream",
     "text": [
      "2022-06-10 22:55:13.171182: W tensorflow/stream_executor/platform/default/dso_loader.cc:64] Could not load dynamic library 'libcuda.so.1'; dlerror: libcuda.so.1: cannot open shared object file: No such file or directory\n",
      "2022-06-10 22:55:13.171214: W tensorflow/stream_executor/cuda/cuda_driver.cc:269] failed call to cuInit: UNKNOWN ERROR (303)\n",
      "2022-06-10 22:55:13.171237: I tensorflow/stream_executor/cuda/cuda_diagnostics.cc:156] kernel driver does not appear to be running on this host (ruslan-Inspiron-5770): /proc/driver/nvidia/version does not exist\n",
      "2022-06-10 22:55:13.171436: I tensorflow/core/platform/cpu_feature_guard.cc:151] This TensorFlow binary is optimized with oneAPI Deep Neural Network Library (oneDNN) to use the following CPU instructions in performance-critical operations:  AVX2 FMA\n",
      "To enable them in other operations, rebuild TensorFlow with the appropriate compiler flags.\n"
     ]
    }
   ],
   "source": [
    "model = Sequential([\n",
    "    \n",
    "    # reshape 28 row * 28 column data to 28*28 rows\n",
    "    Flatten(input_shape=(28, 28)),\n",
    "    \n",
    "      # dense layer 1\n",
    "    Dense(364, activation='relu'),\n",
    "    BatchNormalization(),  \n",
    "    Dropout(0.5),\n",
    "    # dense layer 2\n",
    "    Dense(52, activation='relu'), \n",
    "    BatchNormalization(),  \n",
    "    Dropout(0.5),\n",
    "      # output layer\n",
    "    Dense(10, activation='softmax'),  \n",
    "])"
   ]
  },
  {
   "cell_type": "code",
   "execution_count": 7,
   "id": "2962bcc1",
   "metadata": {},
   "outputs": [],
   "source": [
    "optimizer = Apollo(learning_rate=0.01)\n",
    "#optimizer = NGD_Dirichlet(learning_rate=0.1, momentum=0.9, nesterov = True)\n",
    "#optimizer = NGD_GeneralizedDirichlet(learning_rate=0.1, momentum=0.9, nesterov = True)\n",
    "#optimizer = SGD(learning_rate=0.1, momentum=0.99, nesterov = True)"
   ]
  },
  {
   "cell_type": "code",
   "execution_count": 8,
   "id": "42412d5d",
   "metadata": {},
   "outputs": [],
   "source": [
    "model.compile(optimizer=optimizer,\n",
    "              loss='sparse_categorical_crossentropy',\n",
    "              metrics=['accuracy'])"
   ]
  },
  {
   "cell_type": "code",
   "execution_count": 9,
   "id": "edf20316",
   "metadata": {},
   "outputs": [
    {
     "name": "stdout",
     "output_type": "stream",
     "text": [
      "Epoch 1/20\n"
     ]
    },
    {
     "name": "stderr",
     "output_type": "stream",
     "text": [
      "2022-06-10 22:55:13.238438: W tensorflow/core/framework/cpu_allocator_impl.cc:82] Allocation of 150528000 exceeds 10% of free system memory.\n"
     ]
    },
    {
     "name": "stdout",
     "output_type": "stream",
     "text": [
      "24/24 [==============================] - 2s 42ms/step - loss: 0.7618 - accuracy: 0.7688 - val_loss: 0.5514 - val_accuracy: 0.8348\n",
      "Epoch 2/20\n",
      "24/24 [==============================] - 1s 34ms/step - loss: 0.3970 - accuracy: 0.8825 - val_loss: 0.3770 - val_accuracy: 0.8971\n",
      "Epoch 3/20\n",
      "24/24 [==============================] - 1s 34ms/step - loss: 0.3238 - accuracy: 0.9041 - val_loss: 0.3118 - val_accuracy: 0.9205\n",
      "Epoch 4/20\n",
      "24/24 [==============================] - 1s 35ms/step - loss: 0.2836 - accuracy: 0.9173 - val_loss: 0.2662 - val_accuracy: 0.9316\n",
      "Epoch 5/20\n",
      "24/24 [==============================] - 1s 40ms/step - loss: 0.2504 - accuracy: 0.9273 - val_loss: 0.2277 - val_accuracy: 0.9444\n",
      "Epoch 6/20\n",
      "24/24 [==============================] - 1s 37ms/step - loss: 0.2258 - accuracy: 0.9341 - val_loss: 0.1966 - val_accuracy: 0.9516\n",
      "Epoch 7/20\n",
      "24/24 [==============================] - 1s 41ms/step - loss: 0.2099 - accuracy: 0.9386 - val_loss: 0.1730 - val_accuracy: 0.9557\n",
      "Epoch 8/20\n",
      "24/24 [==============================] - 1s 37ms/step - loss: 0.1931 - accuracy: 0.9446 - val_loss: 0.1545 - val_accuracy: 0.9594\n",
      "Epoch 9/20\n",
      "24/24 [==============================] - 1s 44ms/step - loss: 0.1832 - accuracy: 0.9464 - val_loss: 0.1384 - val_accuracy: 0.9617\n",
      "Epoch 10/20\n",
      "24/24 [==============================] - 1s 52ms/step - loss: 0.1719 - accuracy: 0.9495 - val_loss: 0.1273 - val_accuracy: 0.9642\n",
      "Epoch 11/20\n",
      "24/24 [==============================] - 1s 50ms/step - loss: 0.1632 - accuracy: 0.9526 - val_loss: 0.1203 - val_accuracy: 0.9656\n",
      "Epoch 12/20\n",
      "24/24 [==============================] - 1s 40ms/step - loss: 0.1562 - accuracy: 0.9536 - val_loss: 0.1113 - val_accuracy: 0.9670\n",
      "Epoch 13/20\n",
      "24/24 [==============================] - 1s 46ms/step - loss: 0.1467 - accuracy: 0.9569 - val_loss: 0.1068 - val_accuracy: 0.9684\n",
      "Epoch 14/20\n",
      "24/24 [==============================] - 1s 37ms/step - loss: 0.1418 - accuracy: 0.9590 - val_loss: 0.0997 - val_accuracy: 0.9703\n",
      "Epoch 15/20\n",
      "24/24 [==============================] - 1s 36ms/step - loss: 0.1339 - accuracy: 0.9606 - val_loss: 0.0966 - val_accuracy: 0.9714\n",
      "Epoch 16/20\n",
      "24/24 [==============================] - 1s 36ms/step - loss: 0.1302 - accuracy: 0.9626 - val_loss: 0.0921 - val_accuracy: 0.9720\n",
      "Epoch 17/20\n",
      "24/24 [==============================] - 1s 43ms/step - loss: 0.1238 - accuracy: 0.9636 - val_loss: 0.0897 - val_accuracy: 0.9730\n",
      "Epoch 18/20\n",
      "24/24 [==============================] - 1s 39ms/step - loss: 0.1196 - accuracy: 0.9642 - val_loss: 0.0883 - val_accuracy: 0.9743\n",
      "Epoch 19/20\n",
      "24/24 [==============================] - 1s 34ms/step - loss: 0.1137 - accuracy: 0.9668 - val_loss: 0.0868 - val_accuracy: 0.9731\n",
      "Epoch 20/20\n",
      "24/24 [==============================] - 1s 36ms/step - loss: 0.1112 - accuracy: 0.9671 - val_loss: 0.0850 - val_accuracy: 0.9754\n",
      "313/313 [==============================] - 1s 2ms/step - loss: 0.0844 - accuracy: 0.9749\n"
     ]
    },
    {
     "data": {
      "text/plain": [
       "[0.08435314148664474, 0.9749000072479248]"
      ]
     },
     "execution_count": 9,
     "metadata": {},
     "output_type": "execute_result"
    }
   ],
   "source": [
    "history = model.fit(x_train, y_train, epochs=20, \n",
    "          batch_size=2000, \n",
    "          validation_split=0.2)\n",
    "model.evaluate(x_test, y_test)"
   ]
  }
 ],
 "metadata": {
  "kernelspec": {
   "display_name": "Python 3 (ipykernel)",
   "language": "python",
   "name": "python3"
  },
  "language_info": {
   "codemirror_mode": {
    "name": "ipython",
    "version": 3
   },
   "file_extension": ".py",
   "mimetype": "text/x-python",
   "name": "python",
   "nbconvert_exporter": "python",
   "pygments_lexer": "ipython3",
   "version": "3.9.7"
  }
 },
 "nbformat": 4,
 "nbformat_minor": 5
}
