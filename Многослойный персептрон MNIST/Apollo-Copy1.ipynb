{
 "cells": [
  {
   "cell_type": "code",
   "execution_count": 1,
   "id": "a6287e1d",
   "metadata": {},
   "outputs": [
    {
     "name": "stderr",
     "output_type": "stream",
     "text": [
      "2022-07-06 15:44:02.782282: W tensorflow/stream_executor/platform/default/dso_loader.cc:64] Could not load dynamic library 'libcudart.so.11.0'; dlerror: libcudart.so.11.0: cannot open shared object file: No such file or directory\n",
      "2022-07-06 15:44:02.782312: I tensorflow/stream_executor/cuda/cudart_stub.cc:29] Ignore above cudart dlerror if you do not have a GPU set up on your machine.\n"
     ]
    }
   ],
   "source": [
    "from tensorflow import keras\n",
    "import tensorflow as tf \n",
    "# Common imports\n",
    "import os\n",
    "import numpy as np\n",
    "\n",
    "from tensorflow.keras.models import Sequential\n",
    "from tensorflow.keras.layers import Flatten\n",
    "from tensorflow.keras.layers import Dense, Dropout\n",
    "from tensorflow.keras.layers import Activation\n",
    "from tensorflow.keras.layers import BatchNormalization"
   ]
  },
  {
   "cell_type": "code",
   "execution_count": 2,
   "id": "94d9495b",
   "metadata": {},
   "outputs": [],
   "source": [
    "from Apollo_tf import*\n",
    "from ngd import*"
   ]
  },
  {
   "cell_type": "code",
   "execution_count": 3,
   "id": "c3254456",
   "metadata": {},
   "outputs": [],
   "source": [
    "(x_train, y_train), (x_test, y_test) = tf.keras.datasets.mnist.load_data()"
   ]
  },
  {
   "cell_type": "code",
   "execution_count": 4,
   "id": "c853e3c5",
   "metadata": {},
   "outputs": [],
   "source": [
    "x_train = x_train.astype('float32')\n",
    "x_test = x_test.astype('float32')"
   ]
  },
  {
   "cell_type": "code",
   "execution_count": 5,
   "id": "bcfbe4a3",
   "metadata": {},
   "outputs": [],
   "source": [
    "gray_scale = 255\n",
    "x_train /= gray_scale\n",
    "x_test /= gray_scale"
   ]
  },
  {
   "cell_type": "code",
   "execution_count": 6,
   "id": "bd806726",
   "metadata": {},
   "outputs": [
    {
     "name": "stderr",
     "output_type": "stream",
     "text": [
      "2022-07-06 15:44:04.703484: W tensorflow/stream_executor/platform/default/dso_loader.cc:64] Could not load dynamic library 'libcuda.so.1'; dlerror: libcuda.so.1: cannot open shared object file: No such file or directory\n",
      "2022-07-06 15:44:04.703514: W tensorflow/stream_executor/cuda/cuda_driver.cc:269] failed call to cuInit: UNKNOWN ERROR (303)\n",
      "2022-07-06 15:44:04.703532: I tensorflow/stream_executor/cuda/cuda_diagnostics.cc:156] kernel driver does not appear to be running on this host (ruslan-Inspiron-5770): /proc/driver/nvidia/version does not exist\n",
      "2022-07-06 15:44:04.703743: I tensorflow/core/platform/cpu_feature_guard.cc:151] This TensorFlow binary is optimized with oneAPI Deep Neural Network Library (oneDNN) to use the following CPU instructions in performance-critical operations:  AVX2 FMA\n",
      "To enable them in other operations, rebuild TensorFlow with the appropriate compiler flags.\n"
     ]
    }
   ],
   "source": [
    "model = Sequential([\n",
    "    \n",
    "    # reshape 28 row * 28 column data to 28*28 rows\n",
    "    Flatten(input_shape=(28, 28)),\n",
    "    \n",
    "      # dense layer 1\n",
    "    Dense(512, activation='relu'),\n",
    "    BatchNormalization(),  \n",
    "    Dropout(0.2),\n",
    "    # dense layer 2\n",
    "    Dense(128, activation='relu'), \n",
    "    BatchNormalization(),  \n",
    "    Dropout(0.2),\n",
    "      # output layer\n",
    "    Dense(10, activation='softmax'),  \n",
    "])"
   ]
  },
  {
   "cell_type": "code",
   "execution_count": 7,
   "id": "2962bcc1",
   "metadata": {},
   "outputs": [],
   "source": [
    "optimizer = Apollo(learning_rate=0.02)\n",
    "#optimizer = NGD_Dirichlet(learning_rate=0.1, momentum=0.9, nesterov = True)\n",
    "#optimizer = NGD_GeneralizedDirichlet(learning_rate=0.1, momentum=0.9, nesterov = True)\n",
    "#optimizer = SGD(learning_rate=0.1, momentum=0.99, nesterov = True)"
   ]
  },
  {
   "cell_type": "code",
   "execution_count": 8,
   "id": "42412d5d",
   "metadata": {},
   "outputs": [],
   "source": [
    "model.compile(optimizer=optimizer,\n",
    "              loss='sparse_categorical_crossentropy',\n",
    "              metrics=['accuracy'])"
   ]
  },
  {
   "cell_type": "code",
   "execution_count": 9,
   "id": "edf20316",
   "metadata": {},
   "outputs": [
    {
     "name": "stderr",
     "output_type": "stream",
     "text": [
      "2022-07-06 15:44:04.779914: W tensorflow/core/framework/cpu_allocator_impl.cc:82] Allocation of 159936000 exceeds 10% of free system memory.\n"
     ]
    },
    {
     "name": "stdout",
     "output_type": "stream",
     "text": [
      "Epoch 1/20\n",
      "26/26 [==============================] - 3s 67ms/step - loss: 0.5340 - accuracy: 0.8415 - val_loss: 0.5098 - val_accuracy: 0.8793\n",
      "Epoch 2/20\n",
      "26/26 [==============================] - 1s 54ms/step - loss: 0.2159 - accuracy: 0.9342 - val_loss: 0.2522 - val_accuracy: 0.9260\n",
      "Epoch 3/20\n",
      "26/26 [==============================] - 2s 61ms/step - loss: 0.1682 - accuracy: 0.9488 - val_loss: 0.1678 - val_accuracy: 0.9493\n",
      "Epoch 4/20\n",
      "26/26 [==============================] - 1s 55ms/step - loss: 0.1413 - accuracy: 0.9567 - val_loss: 0.1434 - val_accuracy: 0.9566\n",
      "Epoch 5/20\n",
      "26/26 [==============================] - 2s 61ms/step - loss: 0.1215 - accuracy: 0.9621 - val_loss: 0.1190 - val_accuracy: 0.9653\n",
      "Epoch 6/20\n",
      "26/26 [==============================] - 1s 53ms/step - loss: 0.1077 - accuracy: 0.9664 - val_loss: 0.1097 - val_accuracy: 0.9692\n",
      "Epoch 7/20\n",
      "26/26 [==============================] - 1s 54ms/step - loss: 0.0955 - accuracy: 0.9705 - val_loss: 0.0971 - val_accuracy: 0.9710\n",
      "Epoch 8/20\n",
      "26/26 [==============================] - 1s 56ms/step - loss: 0.0867 - accuracy: 0.9734 - val_loss: 0.0885 - val_accuracy: 0.9741\n",
      "Epoch 9/20\n",
      "26/26 [==============================] - 1s 54ms/step - loss: 0.0777 - accuracy: 0.9750 - val_loss: 0.0830 - val_accuracy: 0.9758\n",
      "Epoch 10/20\n",
      "26/26 [==============================] - 1s 56ms/step - loss: 0.0720 - accuracy: 0.9777 - val_loss: 0.0768 - val_accuracy: 0.9770\n",
      "Epoch 11/20\n",
      "26/26 [==============================] - 1s 56ms/step - loss: 0.0657 - accuracy: 0.9792 - val_loss: 0.0764 - val_accuracy: 0.9771\n",
      "Epoch 12/20\n",
      "26/26 [==============================] - 1s 56ms/step - loss: 0.0604 - accuracy: 0.9807 - val_loss: 0.0733 - val_accuracy: 0.9786\n",
      "Epoch 13/20\n",
      "26/26 [==============================] - 1s 55ms/step - loss: 0.0582 - accuracy: 0.9809 - val_loss: 0.0713 - val_accuracy: 0.9790\n",
      "Epoch 14/20\n",
      "26/26 [==============================] - 2s 61ms/step - loss: 0.0533 - accuracy: 0.9830 - val_loss: 0.0657 - val_accuracy: 0.9801\n",
      "Epoch 15/20\n",
      "26/26 [==============================] - 2s 59ms/step - loss: 0.0506 - accuracy: 0.9836 - val_loss: 0.0651 - val_accuracy: 0.9804\n",
      "Epoch 16/20\n",
      "26/26 [==============================] - 2s 59ms/step - loss: 0.0461 - accuracy: 0.9856 - val_loss: 0.0678 - val_accuracy: 0.9804\n",
      "Epoch 17/20\n",
      "26/26 [==============================] - 2s 59ms/step - loss: 0.0432 - accuracy: 0.9859 - val_loss: 0.0656 - val_accuracy: 0.9812\n",
      "Epoch 18/20\n",
      "26/26 [==============================] - 1s 57ms/step - loss: 0.0416 - accuracy: 0.9865 - val_loss: 0.0660 - val_accuracy: 0.9811\n",
      "Epoch 19/20\n",
      "26/26 [==============================] - 1s 54ms/step - loss: 0.0382 - accuracy: 0.9878 - val_loss: 0.0664 - val_accuracy: 0.9821\n",
      "Epoch 20/20\n",
      "26/26 [==============================] - 1s 55ms/step - loss: 0.0368 - accuracy: 0.9876 - val_loss: 0.0646 - val_accuracy: 0.9826\n",
      "313/313 [==============================] - 0s 1ms/step - loss: 0.0680 - accuracy: 0.9797\n"
     ]
    },
    {
     "data": {
      "text/plain": [
       "[0.0679812878370285, 0.9797000288963318]"
      ]
     },
     "execution_count": 9,
     "metadata": {},
     "output_type": "execute_result"
    }
   ],
   "source": [
    "history = model.fit(x_train, y_train, epochs=20, \n",
    "          batch_size=2000, \n",
    "          validation_split=0.15)\n",
    "model.evaluate(x_test, y_test)"
   ]
  }
 ],
 "metadata": {
  "kernelspec": {
   "display_name": "Python 3 (ipykernel)",
   "language": "python",
   "name": "python3"
  },
  "language_info": {
   "codemirror_mode": {
    "name": "ipython",
    "version": 3
   },
   "file_extension": ".py",
   "mimetype": "text/x-python",
   "name": "python",
   "nbconvert_exporter": "python",
   "pygments_lexer": "ipython3",
   "version": "3.9.7"
  }
 },
 "nbformat": 4,
 "nbformat_minor": 5
}
