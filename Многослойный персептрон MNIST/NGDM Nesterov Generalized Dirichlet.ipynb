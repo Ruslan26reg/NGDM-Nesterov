{
 "cells": [
  {
   "cell_type": "code",
   "execution_count": 1,
   "id": "4badcc5c",
   "metadata": {},
   "outputs": [
    {
     "name": "stderr",
     "output_type": "stream",
     "text": [
      "2022-06-10 23:15:50.964133: W tensorflow/stream_executor/platform/default/dso_loader.cc:64] Could not load dynamic library 'libcudart.so.11.0'; dlerror: libcudart.so.11.0: cannot open shared object file: No such file or directory\n",
      "2022-06-10 23:15:50.964165: I tensorflow/stream_executor/cuda/cudart_stub.cc:29] Ignore above cudart dlerror if you do not have a GPU set up on your machine.\n"
     ]
    }
   ],
   "source": [
    "from tensorflow import keras\n",
    "import tensorflow as tf \n",
    "# Common imports\n",
    "import os\n",
    "import numpy as np\n",
    "\n",
    "from tensorflow.python.keras.models import Sequential\n",
    "from tensorflow.python.keras.layers import Flatten\n",
    "from tensorflow.python.keras.layers import Dense, Dropout\n",
    "from tensorflow.python.keras.layers import Activation\n",
    "from tensorflow.keras.layers import BatchNormalization"
   ]
  },
  {
   "cell_type": "code",
   "execution_count": 2,
   "id": "a542f3d1",
   "metadata": {},
   "outputs": [],
   "source": [
    "(x_train, y_train), (x_test, y_test) = tf.keras.datasets.mnist.load_data()\n",
    "\n",
    "# Cast the records into float values\n",
    "x_train = x_train.astype('float32')\n",
    "x_test = x_test.astype('float32')"
   ]
  },
  {
   "cell_type": "code",
   "execution_count": 3,
   "id": "c730891c",
   "metadata": {},
   "outputs": [],
   "source": [
    "gray_scale = 255\n",
    "x_train /= gray_scale\n",
    "x_test /= gray_scale"
   ]
  },
  {
   "cell_type": "code",
   "execution_count": 4,
   "id": "d325d458",
   "metadata": {},
   "outputs": [
    {
     "name": "stderr",
     "output_type": "stream",
     "text": [
      "2022-06-10 23:15:52.790705: W tensorflow/stream_executor/platform/default/dso_loader.cc:64] Could not load dynamic library 'libcuda.so.1'; dlerror: libcuda.so.1: cannot open shared object file: No such file or directory\n",
      "2022-06-10 23:15:52.790735: W tensorflow/stream_executor/cuda/cuda_driver.cc:269] failed call to cuInit: UNKNOWN ERROR (303)\n",
      "2022-06-10 23:15:52.790752: I tensorflow/stream_executor/cuda/cuda_diagnostics.cc:156] kernel driver does not appear to be running on this host (ruslan-Inspiron-5770): /proc/driver/nvidia/version does not exist\n",
      "2022-06-10 23:15:52.791013: I tensorflow/core/platform/cpu_feature_guard.cc:151] This TensorFlow binary is optimized with oneAPI Deep Neural Network Library (oneDNN) to use the following CPU instructions in performance-critical operations:  AVX2 FMA\n",
      "To enable them in other operations, rebuild TensorFlow with the appropriate compiler flags.\n"
     ]
    }
   ],
   "source": [
    "model = Sequential([\n",
    "    \n",
    "    # reshape 28 row * 28 column data to 28*28 rows\n",
    "    Flatten(input_shape=(28, 28)),\n",
    "    \n",
    "      # dense layer 1\n",
    "    Dense(364, activation='relu'),\n",
    "    BatchNormalization(),  \n",
    "    Dropout(0.5),\n",
    "    # dense layer 2\n",
    "    Dense(52, activation='relu'), \n",
    "    BatchNormalization(),  \n",
    "    Dropout(0.5),\n",
    "      # output layer\n",
    "    Dense(10, activation='softmax'),  \n",
    "])"
   ]
  },
  {
   "cell_type": "code",
   "execution_count": 5,
   "id": "b0c86ea3",
   "metadata": {},
   "outputs": [],
   "source": [
    "from ngd import*"
   ]
  },
  {
   "cell_type": "code",
   "execution_count": 6,
   "id": "3c90dbbc",
   "metadata": {},
   "outputs": [],
   "source": [
    "optimizer = NGD_GeneralizedDirichlet(learning_rate=0.1, momentum=0.9, nesterov = True)"
   ]
  },
  {
   "cell_type": "code",
   "execution_count": 7,
   "id": "7ee147c4",
   "metadata": {},
   "outputs": [],
   "source": [
    "model.compile(optimizer=optimizer,\n",
    "              loss='sparse_categorical_crossentropy',\n",
    "              metrics=['accuracy'])"
   ]
  },
  {
   "cell_type": "code",
   "execution_count": 8,
   "id": "ec4fc58a",
   "metadata": {
    "scrolled": true
   },
   "outputs": [
    {
     "name": "stderr",
     "output_type": "stream",
     "text": [
      "2022-06-10 23:15:52.871859: W tensorflow/core/framework/cpu_allocator_impl.cc:82] Allocation of 150528000 exceeds 10% of free system memory.\n"
     ]
    },
    {
     "name": "stdout",
     "output_type": "stream",
     "text": [
      "Epoch 1/20\n",
      "24/24 [==============================] - 1s 38ms/step - loss: 0.8826 - accuracy: 0.7305 - val_loss: 0.6278 - val_accuracy: 0.8279\n",
      "Epoch 2/20\n",
      "24/24 [==============================] - 1s 33ms/step - loss: 0.4027 - accuracy: 0.8824 - val_loss: 0.4452 - val_accuracy: 0.8941\n",
      "Epoch 3/20\n",
      "24/24 [==============================] - 1s 37ms/step - loss: 0.3172 - accuracy: 0.9084 - val_loss: 0.3718 - val_accuracy: 0.9225\n",
      "Epoch 4/20\n",
      "24/24 [==============================] - 1s 39ms/step - loss: 0.2668 - accuracy: 0.9230 - val_loss: 0.3208 - val_accuracy: 0.9340\n",
      "Epoch 5/20\n",
      "24/24 [==============================] - 1s 33ms/step - loss: 0.2327 - accuracy: 0.9334 - val_loss: 0.2574 - val_accuracy: 0.9475\n",
      "Epoch 6/20\n",
      "24/24 [==============================] - 1s 35ms/step - loss: 0.2097 - accuracy: 0.9400 - val_loss: 0.2182 - val_accuracy: 0.9540\n",
      "Epoch 7/20\n",
      "24/24 [==============================] - 1s 37ms/step - loss: 0.1944 - accuracy: 0.9453 - val_loss: 0.1794 - val_accuracy: 0.9595\n",
      "Epoch 8/20\n",
      "24/24 [==============================] - 1s 36ms/step - loss: 0.1733 - accuracy: 0.9500 - val_loss: 0.1548 - val_accuracy: 0.9623\n",
      "Epoch 9/20\n",
      "24/24 [==============================] - 1s 38ms/step - loss: 0.1646 - accuracy: 0.9527 - val_loss: 0.1405 - val_accuracy: 0.9636\n",
      "Epoch 10/20\n",
      "24/24 [==============================] - 1s 35ms/step - loss: 0.1540 - accuracy: 0.9563 - val_loss: 0.1217 - val_accuracy: 0.9665\n",
      "Epoch 11/20\n",
      "24/24 [==============================] - 1s 35ms/step - loss: 0.1453 - accuracy: 0.9575 - val_loss: 0.1123 - val_accuracy: 0.9676\n",
      "Epoch 12/20\n",
      "24/24 [==============================] - 1s 35ms/step - loss: 0.1355 - accuracy: 0.9613 - val_loss: 0.1048 - val_accuracy: 0.9694\n",
      "Epoch 13/20\n",
      "24/24 [==============================] - 1s 34ms/step - loss: 0.1343 - accuracy: 0.9610 - val_loss: 0.1001 - val_accuracy: 0.9705\n",
      "Epoch 14/20\n",
      "24/24 [==============================] - 1s 34ms/step - loss: 0.1210 - accuracy: 0.9642 - val_loss: 0.0942 - val_accuracy: 0.9722\n",
      "Epoch 15/20\n",
      "24/24 [==============================] - 1s 35ms/step - loss: 0.1160 - accuracy: 0.9664 - val_loss: 0.0888 - val_accuracy: 0.9727\n",
      "Epoch 16/20\n",
      "24/24 [==============================] - 1s 34ms/step - loss: 0.1143 - accuracy: 0.9671 - val_loss: 0.0861 - val_accuracy: 0.9729\n",
      "Epoch 17/20\n",
      "24/24 [==============================] - 1s 35ms/step - loss: 0.1078 - accuracy: 0.9683 - val_loss: 0.0863 - val_accuracy: 0.9733\n",
      "Epoch 18/20\n",
      "24/24 [==============================] - 1s 35ms/step - loss: 0.1016 - accuracy: 0.9705 - val_loss: 0.0826 - val_accuracy: 0.9748\n",
      "Epoch 19/20\n",
      "24/24 [==============================] - 1s 35ms/step - loss: 0.0982 - accuracy: 0.9720 - val_loss: 0.0824 - val_accuracy: 0.9748\n",
      "Epoch 20/20\n",
      "24/24 [==============================] - 1s 34ms/step - loss: 0.0953 - accuracy: 0.9722 - val_loss: 0.0837 - val_accuracy: 0.9748\n",
      "313/313 [==============================] - 1s 1ms/step - loss: 0.0799 - accuracy: 0.9764\n"
     ]
    },
    {
     "data": {
      "text/plain": [
       "[0.07994703948497772, 0.9764000177383423]"
      ]
     },
     "execution_count": 8,
     "metadata": {},
     "output_type": "execute_result"
    }
   ],
   "source": [
    "history = model.fit(x_train, y_train, epochs=20, \n",
    "          batch_size=2000, \n",
    "          validation_split=0.2)\n",
    "model.evaluate(x_test, y_test)"
   ]
  },
  {
   "cell_type": "code",
   "execution_count": null,
   "id": "74170eeb",
   "metadata": {},
   "outputs": [],
   "source": []
  }
 ],
 "metadata": {
  "kernelspec": {
   "display_name": "Python 3 (ipykernel)",
   "language": "python",
   "name": "python3"
  },
  "language_info": {
   "codemirror_mode": {
    "name": "ipython",
    "version": 3
   },
   "file_extension": ".py",
   "mimetype": "text/x-python",
   "name": "python",
   "nbconvert_exporter": "python",
   "pygments_lexer": "ipython3",
   "version": "3.9.7"
  }
 },
 "nbformat": 4,
 "nbformat_minor": 5
}
