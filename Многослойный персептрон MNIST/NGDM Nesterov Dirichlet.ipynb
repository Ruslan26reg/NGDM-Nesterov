{
 "cells": [
  {
   "cell_type": "code",
   "execution_count": 1,
   "id": "4badcc5c",
   "metadata": {},
   "outputs": [
    {
     "name": "stderr",
     "output_type": "stream",
     "text": [
      "2022-06-10 23:16:53.996634: W tensorflow/stream_executor/platform/default/dso_loader.cc:64] Could not load dynamic library 'libcudart.so.11.0'; dlerror: libcudart.so.11.0: cannot open shared object file: No such file or directory\n",
      "2022-06-10 23:16:53.996667: I tensorflow/stream_executor/cuda/cudart_stub.cc:29] Ignore above cudart dlerror if you do not have a GPU set up on your machine.\n"
     ]
    }
   ],
   "source": [
    "from tensorflow import keras\n",
    "import tensorflow as tf \n",
    "# Common imports\n",
    "import os\n",
    "import numpy as np\n",
    "\n",
    "from tensorflow.python.keras.models import Sequential\n",
    "from tensorflow.python.keras.layers import Flatten\n",
    "from tensorflow.python.keras.layers import Dense, Dropout\n",
    "from tensorflow.python.keras.layers import Activation\n",
    "from tensorflow.keras.layers import BatchNormalization"
   ]
  },
  {
   "cell_type": "code",
   "execution_count": 2,
   "id": "a542f3d1",
   "metadata": {},
   "outputs": [],
   "source": [
    "(x_train, y_train), (x_test, y_test) = tf.keras.datasets.mnist.load_data()\n",
    "\n",
    "# Cast the records into float values\n",
    "x_train = x_train.astype('float32')\n",
    "x_test = x_test.astype('float32')"
   ]
  },
  {
   "cell_type": "code",
   "execution_count": 3,
   "id": "c730891c",
   "metadata": {},
   "outputs": [],
   "source": [
    "gray_scale = 255\n",
    "x_train /= gray_scale\n",
    "x_test /= gray_scale"
   ]
  },
  {
   "cell_type": "code",
   "execution_count": 4,
   "id": "d325d458",
   "metadata": {},
   "outputs": [
    {
     "name": "stderr",
     "output_type": "stream",
     "text": [
      "2022-06-10 23:16:55.821161: W tensorflow/stream_executor/platform/default/dso_loader.cc:64] Could not load dynamic library 'libcuda.so.1'; dlerror: libcuda.so.1: cannot open shared object file: No such file or directory\n",
      "2022-06-10 23:16:55.821188: W tensorflow/stream_executor/cuda/cuda_driver.cc:269] failed call to cuInit: UNKNOWN ERROR (303)\n",
      "2022-06-10 23:16:55.821206: I tensorflow/stream_executor/cuda/cuda_diagnostics.cc:156] kernel driver does not appear to be running on this host (ruslan-Inspiron-5770): /proc/driver/nvidia/version does not exist\n",
      "2022-06-10 23:16:55.821437: I tensorflow/core/platform/cpu_feature_guard.cc:151] This TensorFlow binary is optimized with oneAPI Deep Neural Network Library (oneDNN) to use the following CPU instructions in performance-critical operations:  AVX2 FMA\n",
      "To enable them in other operations, rebuild TensorFlow with the appropriate compiler flags.\n"
     ]
    }
   ],
   "source": [
    "model = Sequential([\n",
    "    \n",
    "    # reshape 28 row * 28 column data to 28*28 rows\n",
    "    Flatten(input_shape=(28, 28)),\n",
    "    \n",
    "      # dense layer 1\n",
    "    Dense(364, activation='relu'),\n",
    "    BatchNormalization(),  \n",
    "    Dropout(0.5),\n",
    "    # dense layer 2\n",
    "    Dense(52, activation='relu'), \n",
    "    BatchNormalization(),  \n",
    "    Dropout(0.5),\n",
    "      # output layer\n",
    "    Dense(10, activation='softmax'),  \n",
    "])"
   ]
  },
  {
   "cell_type": "code",
   "execution_count": 5,
   "id": "b0c86ea3",
   "metadata": {},
   "outputs": [],
   "source": [
    "from ngd import*"
   ]
  },
  {
   "cell_type": "code",
   "execution_count": 6,
   "id": "3c90dbbc",
   "metadata": {},
   "outputs": [],
   "source": [
    "optimizer = NGD_Dirichlet(learning_rate=0.1, momentum=0.9, nesterov = True)"
   ]
  },
  {
   "cell_type": "code",
   "execution_count": 7,
   "id": "7ee147c4",
   "metadata": {},
   "outputs": [],
   "source": [
    "model.compile(optimizer=optimizer,\n",
    "              loss='sparse_categorical_crossentropy',\n",
    "              metrics=['accuracy'])"
   ]
  },
  {
   "cell_type": "code",
   "execution_count": 8,
   "id": "ec4fc58a",
   "metadata": {
    "scrolled": true
   },
   "outputs": [
    {
     "name": "stderr",
     "output_type": "stream",
     "text": [
      "2022-06-10 23:16:55.896624: W tensorflow/core/framework/cpu_allocator_impl.cc:82] Allocation of 150528000 exceeds 10% of free system memory.\n"
     ]
    },
    {
     "name": "stdout",
     "output_type": "stream",
     "text": [
      "Epoch 1/20\n",
      "24/24 [==============================] - 2s 41ms/step - loss: 0.8877 - accuracy: 0.7319 - val_loss: 0.6138 - val_accuracy: 0.8282\n",
      "Epoch 2/20\n",
      "24/24 [==============================] - 1s 39ms/step - loss: 0.3930 - accuracy: 0.8870 - val_loss: 0.4190 - val_accuracy: 0.8985\n",
      "Epoch 3/20\n",
      "24/24 [==============================] - 1s 37ms/step - loss: 0.3083 - accuracy: 0.9108 - val_loss: 0.3472 - val_accuracy: 0.9228\n",
      "Epoch 4/20\n",
      "24/24 [==============================] - 1s 41ms/step - loss: 0.2642 - accuracy: 0.9236 - val_loss: 0.2957 - val_accuracy: 0.9367\n",
      "Epoch 5/20\n",
      "24/24 [==============================] - 1s 38ms/step - loss: 0.2304 - accuracy: 0.9322 - val_loss: 0.2501 - val_accuracy: 0.9479\n",
      "Epoch 6/20\n",
      "24/24 [==============================] - 1s 36ms/step - loss: 0.2077 - accuracy: 0.9381 - val_loss: 0.2094 - val_accuracy: 0.9544\n",
      "Epoch 7/20\n",
      "24/24 [==============================] - 1s 37ms/step - loss: 0.1909 - accuracy: 0.9460 - val_loss: 0.1739 - val_accuracy: 0.9603\n",
      "Epoch 8/20\n",
      "24/24 [==============================] - 1s 35ms/step - loss: 0.1764 - accuracy: 0.9494 - val_loss: 0.1534 - val_accuracy: 0.9634\n",
      "Epoch 9/20\n",
      "24/24 [==============================] - 1s 38ms/step - loss: 0.1623 - accuracy: 0.9533 - val_loss: 0.1340 - val_accuracy: 0.9667\n",
      "Epoch 10/20\n",
      "24/24 [==============================] - 1s 35ms/step - loss: 0.1543 - accuracy: 0.9554 - val_loss: 0.1208 - val_accuracy: 0.9685\n",
      "Epoch 11/20\n",
      "24/24 [==============================] - 1s 35ms/step - loss: 0.1417 - accuracy: 0.9581 - val_loss: 0.1103 - val_accuracy: 0.9698\n",
      "Epoch 12/20\n",
      "24/24 [==============================] - 1s 36ms/step - loss: 0.1340 - accuracy: 0.9605 - val_loss: 0.1006 - val_accuracy: 0.9720\n",
      "Epoch 13/20\n",
      "24/24 [==============================] - 1s 34ms/step - loss: 0.1252 - accuracy: 0.9639 - val_loss: 0.0980 - val_accuracy: 0.9707\n",
      "Epoch 14/20\n",
      "24/24 [==============================] - 1s 35ms/step - loss: 0.1200 - accuracy: 0.9655 - val_loss: 0.0949 - val_accuracy: 0.9722\n",
      "Epoch 15/20\n",
      "24/24 [==============================] - 1s 39ms/step - loss: 0.1150 - accuracy: 0.9668 - val_loss: 0.0890 - val_accuracy: 0.9737\n",
      "Epoch 16/20\n",
      "24/24 [==============================] - 1s 34ms/step - loss: 0.1135 - accuracy: 0.9668 - val_loss: 0.0875 - val_accuracy: 0.9748\n",
      "Epoch 17/20\n",
      "24/24 [==============================] - 1s 35ms/step - loss: 0.1087 - accuracy: 0.9681 - val_loss: 0.0864 - val_accuracy: 0.9755\n",
      "Epoch 18/20\n",
      "24/24 [==============================] - 1s 36ms/step - loss: 0.1057 - accuracy: 0.9685 - val_loss: 0.0843 - val_accuracy: 0.9749\n",
      "Epoch 19/20\n",
      "24/24 [==============================] - 1s 35ms/step - loss: 0.1016 - accuracy: 0.9691 - val_loss: 0.0843 - val_accuracy: 0.9766\n",
      "Epoch 20/20\n",
      "24/24 [==============================] - 1s 38ms/step - loss: 0.0969 - accuracy: 0.9718 - val_loss: 0.0820 - val_accuracy: 0.9762\n",
      "313/313 [==============================] - 1s 2ms/step - loss: 0.0777 - accuracy: 0.9765\n"
     ]
    },
    {
     "data": {
      "text/plain": [
       "[0.07771385461091995, 0.9764999747276306]"
      ]
     },
     "execution_count": 8,
     "metadata": {},
     "output_type": "execute_result"
    }
   ],
   "source": [
    "history = model.fit(x_train, y_train, epochs=20, \n",
    "          batch_size=2000, \n",
    "          validation_split=0.2)\n",
    "model.evaluate(x_test, y_test)"
   ]
  },
  {
   "cell_type": "code",
   "execution_count": null,
   "id": "74170eeb",
   "metadata": {},
   "outputs": [],
   "source": []
  }
 ],
 "metadata": {
  "kernelspec": {
   "display_name": "Python 3 (ipykernel)",
   "language": "python",
   "name": "python3"
  },
  "language_info": {
   "codemirror_mode": {
    "name": "ipython",
    "version": 3
   },
   "file_extension": ".py",
   "mimetype": "text/x-python",
   "name": "python",
   "nbconvert_exporter": "python",
   "pygments_lexer": "ipython3",
   "version": "3.9.7"
  }
 },
 "nbformat": 4,
 "nbformat_minor": 5
}
