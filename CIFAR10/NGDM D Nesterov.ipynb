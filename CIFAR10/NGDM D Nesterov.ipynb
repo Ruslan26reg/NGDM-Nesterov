{
 "cells": [
  {
   "cell_type": "code",
   "execution_count": 1,
   "id": "e378b659",
   "metadata": {},
   "outputs": [
    {
     "name": "stderr",
     "output_type": "stream",
     "text": [
      "2022-06-16 16:57:51.650808: W tensorflow/stream_executor/platform/default/dso_loader.cc:64] Could not load dynamic library 'libcudart.so.11.0'; dlerror: libcudart.so.11.0: cannot open shared object file: No such file or directory\n",
      "2022-06-16 16:57:51.650842: I tensorflow/stream_executor/cuda/cudart_stub.cc:29] Ignore above cudart dlerror if you do not have a GPU set up on your machine.\n"
     ]
    }
   ],
   "source": [
    "import tensorflow as tf\n",
    "import seaborn as sns\n",
    "import numpy as np\n",
    "import pandas as pd\n",
    "import matplotlib.pyplot as plt\n",
    "import matplotlib.image as mpimg\n",
    "import itertools\n",
    "from ngd import*\n",
    "from tensorflow.python.keras.models import Sequential\n",
    "from tensorflow.python.keras.layers import Conv2D, MaxPooling2D, Dropout, Flatten, Dense"
   ]
  },
  {
   "cell_type": "code",
   "execution_count": 2,
   "id": "52bae18b",
   "metadata": {},
   "outputs": [],
   "source": [
    "cifar10 = tf.keras.datasets.cifar10\n",
    "(x_train, y_train), (x_test, y_test) = cifar10.load_data()"
   ]
  },
  {
   "cell_type": "code",
   "execution_count": 3,
   "id": "55ef337c",
   "metadata": {},
   "outputs": [],
   "source": [
    "y_train = y_train.flatten()\n",
    "y_test = y_test.flatten()"
   ]
  },
  {
   "cell_type": "code",
   "execution_count": 4,
   "id": "2f6ad676",
   "metadata": {},
   "outputs": [
    {
     "name": "stderr",
     "output_type": "stream",
     "text": [
      "/home/ruslan/anaconda3/lib/python3.9/site-packages/seaborn/_decorators.py:36: FutureWarning: Pass the following variable as a keyword arg: x. From version 0.12, the only valid positional argument will be `data`, and passing other arguments without an explicit keyword will result in an error or misinterpretation.\n",
      "  warnings.warn(\n"
     ]
    },
    {
     "data": {
      "text/plain": [
       "[[Text(0, 0, 'airplane'),\n",
       "  Text(1, 0, 'automobile'),\n",
       "  Text(2, 0, 'bird'),\n",
       "  Text(3, 0, 'cat'),\n",
       "  Text(4, 0, 'deer'),\n",
       "  Text(5, 0, 'dog'),\n",
       "  Text(6, 0, 'frog'),\n",
       "  Text(7, 0, 'horse'),\n",
       "  Text(8, 0, 'ship'),\n",
       "  Text(9, 0, 'truck')]]"
      ]
     },
     "execution_count": 4,
     "metadata": {},
     "output_type": "execute_result"
    },
    {
     "data": {
      "image/png": "[encoded data removed]",
      "text/plain": [
       "<Figure size 720x504 with 1 Axes>"
      ]
     },
     "metadata": {
      "needs_background": "light"
     },
     "output_type": "display_data"
    }
   ],
   "source": [
    "classes = ['airplane', 'automobile', 'bird', 'cat', 'deer', 'dog', 'frog', 'horse', 'ship', 'truck']\n",
    "plt.figure(figsize=(10,7))\n",
    "p = sns.countplot(y_train.flatten())\n",
    "p.set(xticklabels=classes)"
   ]
  },
  {
   "cell_type": "code",
   "execution_count": 5,
   "id": "295499dc",
   "metadata": {},
   "outputs": [
    {
     "data": {
      "text/plain": [
       "False"
      ]
     },
     "execution_count": 5,
     "metadata": {},
     "output_type": "execute_result"
    }
   ],
   "source": [
    "np.isnan(x_train).any()\n",
    "np.isnan(x_test).any()"
   ]
  },
  {
   "cell_type": "code",
   "execution_count": 6,
   "id": "d327b1c4",
   "metadata": {},
   "outputs": [
    {
     "name": "stderr",
     "output_type": "stream",
     "text": [
      "2022-06-16 16:58:01.528852: W tensorflow/stream_executor/platform/default/dso_loader.cc:64] Could not load dynamic library 'libcuda.so.1'; dlerror: libcuda.so.1: cannot open shared object file: No such file or directory\n",
      "2022-06-16 16:58:01.529505: W tensorflow/stream_executor/cuda/cuda_driver.cc:269] failed call to cuInit: UNKNOWN ERROR (303)\n",
      "2022-06-16 16:58:01.529538: I tensorflow/stream_executor/cuda/cuda_diagnostics.cc:156] kernel driver does not appear to be running on this host (ruslan-Inspiron-5770): /proc/driver/nvidia/version does not exist\n",
      "2022-06-16 16:58:01.539093: I tensorflow/core/platform/cpu_feature_guard.cc:151] This TensorFlow binary is optimized with oneAPI Deep Neural Network Library (oneDNN) to use the following CPU instructions in performance-critical operations:  AVX2 FMA\n",
      "To enable them in other operations, rebuild TensorFlow with the appropriate compiler flags.\n"
     ]
    }
   ],
   "source": [
    "input_shape = (32, 32, 3)\n",
    "\n",
    "x_train=x_train.reshape(x_train.shape[0], x_train.shape[1], x_train.shape[2], 3)\n",
    "x_train=x_train / 255.0\n",
    "x_test = x_test.reshape(x_test.shape[0], x_test.shape[1], x_test.shape[2], 3)\n",
    "x_test=x_test / 255.0\n",
    "\n",
    "y_train = tf.one_hot(y_train.astype(np.int32), depth=10)\n",
    "y_test = tf.one_hot(y_test.astype(np.int32), depth=10)"
   ]
  },
  {
   "cell_type": "code",
   "execution_count": 7,
   "id": "c0321a63",
   "metadata": {},
   "outputs": [],
   "source": [
    "batch_size = 32\n",
    "num_classes = 10\n",
    "epochs = 16"
   ]
  },
  {
   "cell_type": "code",
   "execution_count": 8,
   "id": "84f97639",
   "metadata": {},
   "outputs": [],
   "source": [
    "model = Sequential([\n",
    "    Conv2D(32, 3, padding='same', input_shape=x_train.shape[1:], activation='relu'),\n",
    "    Conv2D(32, 3, activation='relu'),\n",
    "    MaxPooling2D(),\n",
    "    Dropout(0.25),\n",
    "\n",
    "    Conv2D(64, 3, padding='same', activation='relu'),\n",
    "    Conv2D(64, 3, activation='relu'),\n",
    "    MaxPooling2D(),\n",
    "    Dropout(0.25),\n",
    "\n",
    "    Flatten(),\n",
    "    Dense(512, activation='relu'),\n",
    "    Dropout(0.5),\n",
    "    Dense(num_classes, activation='softmax'),\n",
    "])"
   ]
  },
  {
   "cell_type": "code",
   "execution_count": 9,
   "id": "f256908a",
   "metadata": {},
   "outputs": [],
   "source": [
    "opt = NGD_Dirichlet(learning_rate = 0.004, momentum = 0.94,nesterov = True)\n",
    "model.compile(optimizer=opt,\n",
    "            loss='categorical_crossentropy', metrics=['acc'])"
   ]
  },
  {
   "cell_type": "code",
   "execution_count": 10,
   "id": "fb96eeb1",
   "metadata": {},
   "outputs": [
    {
     "name": "stderr",
     "output_type": "stream",
     "text": [
      "2022-06-16 16:58:03.421535: W tensorflow/core/framework/cpu_allocator_impl.cc:82] Allocation of 614400000 exceeds 10% of free system memory.\n"
     ]
    },
    {
     "name": "stdout",
     "output_type": "stream",
     "text": [
      "Epoch 1/16\n",
      "   3/1563 [..............................] - ETA: 1:41 - loss: 2.2919 - acc: 0.1354"
     ]
    },
    {
     "name": "stderr",
     "output_type": "stream",
     "text": [
      "2022-06-16 16:58:05.586924: W tensorflow/core/framework/cpu_allocator_impl.cc:82] Allocation of 21415680 exceeds 10% of free system memory.\n",
      "2022-06-16 16:58:05.590504: W tensorflow/core/framework/cpu_allocator_impl.cc:82] Allocation of 21415680 exceeds 10% of free system memory.\n",
      "2022-06-16 16:58:05.596177: W tensorflow/core/framework/cpu_allocator_impl.cc:82] Allocation of 20995200 exceeds 10% of free system memory.\n",
      "2022-06-16 16:58:05.596744: W tensorflow/core/framework/cpu_allocator_impl.cc:82] Allocation of 20995200 exceeds 10% of free system memory.\n"
     ]
    },
    {
     "name": "stdout",
     "output_type": "stream",
     "text": [
      "1563/1563 [==============================] - 97s 61ms/step - loss: 1.7712 - acc: 0.3462 - val_loss: 1.3557 - val_acc: 0.5094\n",
      "Epoch 2/16\n",
      "1563/1563 [==============================] - 97s 62ms/step - loss: 1.3361 - acc: 0.5172 - val_loss: 1.1636 - val_acc: 0.5857\n",
      "Epoch 3/16\n",
      "1563/1563 [==============================] - 98s 62ms/step - loss: 1.1586 - acc: 0.5861 - val_loss: 0.9998 - val_acc: 0.6503\n",
      "Epoch 4/16\n",
      "1563/1563 [==============================] - 94s 60ms/step - loss: 1.0350 - acc: 0.6330 - val_loss: 0.9186 - val_acc: 0.6776\n",
      "Epoch 5/16\n",
      "1563/1563 [==============================] - 96s 61ms/step - loss: 0.9501 - acc: 0.6660 - val_loss: 0.8367 - val_acc: 0.7049\n",
      "Epoch 6/16\n",
      "1563/1563 [==============================] - 98s 63ms/step - loss: 0.8810 - acc: 0.6906 - val_loss: 0.7931 - val_acc: 0.7227\n",
      "Epoch 7/16\n",
      "1563/1563 [==============================] - 97s 62ms/step - loss: 0.8243 - acc: 0.7095 - val_loss: 0.7727 - val_acc: 0.7302\n",
      "Epoch 8/16\n",
      "1563/1563 [==============================] - 96s 61ms/step - loss: 0.7853 - acc: 0.7235 - val_loss: 0.7310 - val_acc: 0.7472\n",
      "Epoch 9/16\n",
      "1563/1563 [==============================] - 98s 63ms/step - loss: 0.7428 - acc: 0.7387 - val_loss: 0.7542 - val_acc: 0.7431\n",
      "Epoch 10/16\n",
      "1563/1563 [==============================] - 95s 61ms/step - loss: 0.7060 - acc: 0.7510 - val_loss: 0.7588 - val_acc: 0.7370\n",
      "Epoch 11/16\n",
      "1563/1563 [==============================] - 97s 62ms/step - loss: 0.6848 - acc: 0.7589 - val_loss: 0.6853 - val_acc: 0.7598\n",
      "Epoch 12/16\n",
      "1563/1563 [==============================] - 97s 62ms/step - loss: 0.6509 - acc: 0.7704 - val_loss: 0.7249 - val_acc: 0.7470\n",
      "Epoch 13/16\n",
      "1563/1563 [==============================] - 98s 62ms/step - loss: 0.6354 - acc: 0.7752 - val_loss: 0.6730 - val_acc: 0.7686\n",
      "Epoch 14/16\n",
      "1563/1563 [==============================] - 98s 63ms/step - loss: 0.6067 - acc: 0.7856 - val_loss: 0.6713 - val_acc: 0.7739\n",
      "Epoch 15/16\n",
      "1563/1563 [==============================] - 98s 63ms/step - loss: 0.5946 - acc: 0.7921 - val_loss: 0.6569 - val_acc: 0.7744\n",
      "Epoch 16/16\n",
      "1563/1563 [==============================] - 97s 62ms/step - loss: 0.5809 - acc: 0.7957 - val_loss: 0.6338 - val_acc: 0.7849\n"
     ]
    }
   ],
   "source": [
    "history = model.fit(x_train, y_train, batch_size=batch_size,\n",
    "                    epochs=epochs, validation_data = (x_test, y_test))"
   ]
  },
  {
   "cell_type": "code",
   "execution_count": 11,
   "id": "1a90b4f4",
   "metadata": {},
   "outputs": [
    {
     "name": "stdout",
     "output_type": "stream",
     "text": [
      "313/313 [==============================] - 4s 12ms/step - loss: 0.6338 - acc: 0.7849\n"
     ]
    }
   ],
   "source": [
    "test_loss, test_acc = model.evaluate(x_test, y_test)"
   ]
  }
 ],
 "metadata": {
  "kernelspec": {
   "display_name": "Python 3 (ipykernel)",
   "language": "python",
   "name": "python3"
  },
  "language_info": {
   "codemirror_mode": {
    "name": "ipython",
    "version": 3
   },
   "file_extension": ".py",
   "mimetype": "text/x-python",
   "name": "python",
   "nbconvert_exporter": "python",
   "pygments_lexer": "ipython3",
   "version": "3.9.7"
  }
 },
 "nbformat": 4,
 "nbformat_minor": 5
}
