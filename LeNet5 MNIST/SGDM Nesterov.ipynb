{
 "cells": [
  {
   "cell_type": "code",
   "execution_count": 1,
   "id": "f1c4e859",
   "metadata": {},
   "outputs": [
    {
     "name": "stderr",
     "output_type": "stream",
     "text": [
      "2022-06-14 22:48:01.625545: W tensorflow/stream_executor/platform/default/dso_loader.cc:64] Could not load dynamic library 'libcudart.so.11.0'; dlerror: libcudart.so.11.0: cannot open shared object file: No such file or directory\n",
      "2022-06-14 22:48:01.625685: I tensorflow/stream_executor/cuda/cudart_stub.cc:29] Ignore above cudart dlerror if you do not have a GPU set up on your machine.\n"
     ]
    }
   ],
   "source": [
    "import tensorflow \n",
    "from tensorflow.keras.datasets import mnist"
   ]
  },
  {
   "cell_type": "code",
   "execution_count": 2,
   "id": "82d1e173",
   "metadata": {},
   "outputs": [],
   "source": [
    "(X_train, y_train), (X_test, y_test) = mnist.load_data()"
   ]
  },
  {
   "cell_type": "code",
   "execution_count": 3,
   "id": "f17f75f3",
   "metadata": {},
   "outputs": [],
   "source": [
    "import matplotlib.pyplot as plt \n",
    "import random"
   ]
  },
  {
   "cell_type": "code",
   "execution_count": 4,
   "id": "c0f6a2c3",
   "metadata": {},
   "outputs": [],
   "source": [
    "from tensorflow.keras.utils import to_categorical"
   ]
  },
  {
   "cell_type": "code",
   "execution_count": 5,
   "id": "3b971de7",
   "metadata": {},
   "outputs": [],
   "source": [
    "def preprocess_data(X_train, y_train, X_test, y_test):\n",
    "\t# reshape images to the the required size by Keras\n",
    "  \tX_train = X_train.reshape(X_train.shape[0], X_train.shape[1], X_train.shape[2], 1)\n",
    "  \tX_test = X_test.reshape(X_test.shape[0], X_test.shape[1], X_test.shape[2], 1)\n",
    "  \t# convert from integers to floats\n",
    "  \tX_train = X_train.astype('float32')\n",
    "  \tX_test = X_test.astype('float32')\n",
    "  \t# normalize to range 0-1\n",
    "  \tX_train = X_train/255.0\n",
    "  \tX_test_norm = X_test/255.0\n",
    "  \t# One-hot encoding label \n",
    "  \ty_train = to_categorical(y_train)\n",
    "  \ty_test = to_categorical(y_test)\n",
    "  \treturn X_train, y_train, X_test, y_test "
   ]
  },
  {
   "cell_type": "code",
   "execution_count": 6,
   "id": "82c1315d",
   "metadata": {},
   "outputs": [],
   "source": [
    "from tensorflow.keras.models import Sequential\n",
    "from tensorflow.keras.layers import Conv2D, MaxPooling2D, Dense, Flatten\n",
    "from tensorflow.keras.optimizers import SGD\n",
    "from tensorflow.keras.metrics import categorical_crossentropy"
   ]
  },
  {
   "cell_type": "code",
   "execution_count": 7,
   "id": "f74cc093",
   "metadata": {},
   "outputs": [],
   "source": [
    "def LeNet():\n",
    "  model = Sequential()\n",
    "  model.add(Conv2D(filters = 6, kernel_size = (5,5), padding = 'same', activation = 'relu', input_shape = (28,28,1)))\n",
    "  model.add(MaxPooling2D(pool_size = (2,2)))\n",
    "  model.add(Conv2D(filters = 16, kernel_size = (5,5), activation = 'relu'))\n",
    "  model.add(MaxPooling2D(pool_size = (2,2)))\n",
    "  model.add(Flatten())\n",
    "  model.add(Dense(120, activation = 'relu'))\n",
    "  model.add(Dense(10, activation = 'softmax'))\n",
    "  # compile the model with a loss function, a metric and an optimizer function\n",
    "  #opt = SGD(lr = 0.001, momentum = 0.99, nesterov = True)\n",
    "  #opt = Apollo(learning_rate=0.01, epsilon=1e-6, rebound='belief')\n",
    "  opt = SGD(learning_rate=0.005, momentum=0.99, nesterov = True)\n",
    "  model.compile(loss = categorical_crossentropy, \n",
    "                optimizer = opt, \n",
    "                metrics = ['accuracy']) \n",
    "  return model"
   ]
  },
  {
   "cell_type": "code",
   "execution_count": 8,
   "id": "b42f8e28",
   "metadata": {},
   "outputs": [
    {
     "name": "stdout",
     "output_type": "stream",
     "text": [
      "Model: \"sequential\"\n",
      "_________________________________________________________________\n",
      " Layer (type)                Output Shape              Param #   \n",
      "=================================================================\n",
      " conv2d (Conv2D)             (None, 28, 28, 6)         156       \n",
      "                                                                 \n",
      " max_pooling2d (MaxPooling2D  (None, 14, 14, 6)        0         \n",
      " )                                                               \n",
      "                                                                 \n",
      " conv2d_1 (Conv2D)           (None, 10, 10, 16)        2416      \n",
      "                                                                 \n",
      " max_pooling2d_1 (MaxPooling  (None, 5, 5, 16)         0         \n",
      " 2D)                                                             \n",
      "                                                                 \n",
      " flatten (Flatten)           (None, 400)               0         \n",
      "                                                                 \n",
      " dense (Dense)               (None, 120)               48120     \n",
      "                                                                 \n",
      " dense_1 (Dense)             (None, 10)                1210      \n",
      "                                                                 \n",
      "=================================================================\n",
      "Total params: 51,902\n",
      "Trainable params: 51,902\n",
      "Non-trainable params: 0\n",
      "_________________________________________________________________\n"
     ]
    },
    {
     "name": "stderr",
     "output_type": "stream",
     "text": [
      "2022-06-14 22:48:06.333035: W tensorflow/stream_executor/platform/default/dso_loader.cc:64] Could not load dynamic library 'libcuda.so.1'; dlerror: libcuda.so.1: cannot open shared object file: No such file or directory\n",
      "2022-06-14 22:48:06.333129: W tensorflow/stream_executor/cuda/cuda_driver.cc:269] failed call to cuInit: UNKNOWN ERROR (303)\n",
      "2022-06-14 22:48:06.333198: I tensorflow/stream_executor/cuda/cuda_diagnostics.cc:156] kernel driver does not appear to be running on this host (ruslan-Inspiron-5770): /proc/driver/nvidia/version does not exist\n",
      "2022-06-14 22:48:06.334802: I tensorflow/core/platform/cpu_feature_guard.cc:151] This TensorFlow binary is optimized with oneAPI Deep Neural Network Library (oneDNN) to use the following CPU instructions in performance-critical operations:  AVX2 FMA\n",
      "To enable them in other operations, rebuild TensorFlow with the appropriate compiler flags.\n"
     ]
    }
   ],
   "source": [
    "LeNet_model = LeNet()\n",
    "LeNet_model.summary()"
   ]
  },
  {
   "cell_type": "code",
   "execution_count": 9,
   "id": "6981e14f",
   "metadata": {},
   "outputs": [],
   "source": [
    "def train_model(model, X_train, y_train, X_test, y_test, epochs = 10, batch_size = 128):\n",
    "  \t# Rescaling all training and testing data\n",
    "  \tX_train, y_train, X_test, y_test = preprocess_data(X_train, y_train, X_test, y_test)\n",
    "  \t# Fitting the model\n",
    "  \thistory = model.fit(X_train, y_train, epochs = epochs, batch_size = batch_size, steps_per_epoch = X_train.shape[0]//batch_size, validation_data = (X_test, y_test), validation_steps = X_test.shape[0]//batch_size, verbose = 1)\n",
    "  \t# evaluate the model\n",
    "  \t_, acc = model.evaluate(X_test, y_test, verbose = 1)\n",
    "  \tprint('%.3f' % (acc * 100.0))\n",
    "  \tsummary_history(history)"
   ]
  },
  {
   "cell_type": "code",
   "execution_count": 10,
   "id": "877ca5af",
   "metadata": {},
   "outputs": [
    {
     "name": "stdout",
     "output_type": "stream",
     "text": [
      "Epoch 1/10\n"
     ]
    },
    {
     "name": "stderr",
     "output_type": "stream",
     "text": [
      "2022-06-14 22:48:06.970025: W tensorflow/core/framework/cpu_allocator_impl.cc:82] Allocation of 188160000 exceeds 10% of free system memory.\n"
     ]
    },
    {
     "name": "stdout",
     "output_type": "stream",
     "text": [
      "  7/468 [..............................] - ETA: 14s - loss: 2.3094 - accuracy: 0.1607"
     ]
    },
    {
     "name": "stderr",
     "output_type": "stream",
     "text": [
      "2022-06-14 22:48:07.795277: W tensorflow/core/framework/cpu_allocator_impl.cc:82] Allocation of 24840000 exceeds 10% of free system memory.\n",
      "2022-06-14 22:48:07.795371: W tensorflow/core/framework/cpu_allocator_impl.cc:82] Allocation of 24840000 exceeds 10% of free system memory.\n",
      "2022-06-14 22:48:07.799242: W tensorflow/core/framework/cpu_allocator_impl.cc:82] Allocation of 25244800 exceeds 10% of free system memory.\n",
      "2022-06-14 22:48:07.818164: W tensorflow/core/framework/cpu_allocator_impl.cc:82] Allocation of 24840000 exceeds 10% of free system memory.\n"
     ]
    },
    {
     "name": "stdout",
     "output_type": "stream",
     "text": [
      "468/468 [==============================] - 11s 24ms/step - loss: 0.3905 - accuracy: 0.8832 - val_loss: 23.6515 - val_accuracy: 0.9568\n",
      "Epoch 2/10\n",
      "468/468 [==============================] - 11s 24ms/step - loss: 0.0609 - accuracy: 0.9805 - val_loss: 12.8967 - val_accuracy: 0.9773\n",
      "Epoch 3/10\n",
      "468/468 [==============================] - 12s 26ms/step - loss: 0.0394 - accuracy: 0.9876 - val_loss: 8.2795 - val_accuracy: 0.9848\n",
      "Epoch 4/10\n",
      "468/468 [==============================] - 12s 25ms/step - loss: 0.0306 - accuracy: 0.9903 - val_loss: 11.8886 - val_accuracy: 0.9806\n",
      "Epoch 5/10\n",
      "468/468 [==============================] - 12s 25ms/step - loss: 0.0248 - accuracy: 0.9918 - val_loss: 12.5432 - val_accuracy: 0.9806\n",
      "Epoch 6/10\n",
      "468/468 [==============================] - 12s 26ms/step - loss: 0.0235 - accuracy: 0.9921 - val_loss: 16.9832 - val_accuracy: 0.9761\n",
      "Epoch 7/10\n",
      "468/468 [==============================] - 11s 24ms/step - loss: 0.0186 - accuracy: 0.9937 - val_loss: 8.6875 - val_accuracy: 0.9862\n",
      "Epoch 8/10\n",
      "468/468 [==============================] - 12s 25ms/step - loss: 0.0146 - accuracy: 0.9954 - val_loss: 14.7308 - val_accuracy: 0.9793\n",
      "Epoch 9/10\n",
      "468/468 [==============================] - 12s 25ms/step - loss: 0.0107 - accuracy: 0.9966 - val_loss: 13.0321 - val_accuracy: 0.9831\n",
      "Epoch 10/10\n",
      "468/468 [==============================] - 12s 26ms/step - loss: 0.0102 - accuracy: 0.9966 - val_loss: 10.4374 - val_accuracy: 0.9863\n",
      "313/313 [==============================] - 1s 4ms/step - loss: 10.4207 - accuracy: 0.9863\n",
      "98.630\n"
     ]
    },
    {
     "ename": "NameError",
     "evalue": "name 'summary_history' is not defined",
     "output_type": "error",
     "traceback": [
      "\u001b[0;31m---------------------------------------------------------------------------\u001b[0m",
      "\u001b[0;31mNameError\u001b[0m                                 Traceback (most recent call last)",
      "\u001b[0;32m/tmp/ipykernel_9031/2843570342.py\u001b[0m in \u001b[0;36m<module>\u001b[0;34m\u001b[0m\n\u001b[0;32m----> 1\u001b[0;31m \u001b[0mtrain_model\u001b[0m\u001b[0;34m(\u001b[0m\u001b[0mLeNet_model\u001b[0m\u001b[0;34m,\u001b[0m \u001b[0mX_train\u001b[0m\u001b[0;34m,\u001b[0m \u001b[0my_train\u001b[0m\u001b[0;34m,\u001b[0m \u001b[0mX_test\u001b[0m\u001b[0;34m,\u001b[0m \u001b[0my_test\u001b[0m\u001b[0;34m)\u001b[0m\u001b[0;34m\u001b[0m\u001b[0;34m\u001b[0m\u001b[0m\n\u001b[0m",
      "\u001b[0;32m/tmp/ipykernel_9031/3458355887.py\u001b[0m in \u001b[0;36mtrain_model\u001b[0;34m(model, X_train, y_train, X_test, y_test, epochs, batch_size)\u001b[0m\n\u001b[1;32m      7\u001b[0m         \u001b[0m_\u001b[0m\u001b[0;34m,\u001b[0m \u001b[0macc\u001b[0m \u001b[0;34m=\u001b[0m \u001b[0mmodel\u001b[0m\u001b[0;34m.\u001b[0m\u001b[0mevaluate\u001b[0m\u001b[0;34m(\u001b[0m\u001b[0mX_test\u001b[0m\u001b[0;34m,\u001b[0m \u001b[0my_test\u001b[0m\u001b[0;34m,\u001b[0m \u001b[0mverbose\u001b[0m \u001b[0;34m=\u001b[0m \u001b[0;36m1\u001b[0m\u001b[0;34m)\u001b[0m\u001b[0;34m\u001b[0m\u001b[0;34m\u001b[0m\u001b[0m\n\u001b[1;32m      8\u001b[0m         \u001b[0mprint\u001b[0m\u001b[0;34m(\u001b[0m\u001b[0;34m'%.3f'\u001b[0m \u001b[0;34m%\u001b[0m \u001b[0;34m(\u001b[0m\u001b[0macc\u001b[0m \u001b[0;34m*\u001b[0m \u001b[0;36m100.0\u001b[0m\u001b[0;34m)\u001b[0m\u001b[0;34m)\u001b[0m\u001b[0;34m\u001b[0m\u001b[0;34m\u001b[0m\u001b[0m\n\u001b[0;32m----> 9\u001b[0;31m         \u001b[0msummary_history\u001b[0m\u001b[0;34m(\u001b[0m\u001b[0mhistory\u001b[0m\u001b[0;34m)\u001b[0m\u001b[0;34m\u001b[0m\u001b[0;34m\u001b[0m\u001b[0m\n\u001b[0m",
      "\u001b[0;31mNameError\u001b[0m: name 'summary_history' is not defined"
     ]
    }
   ],
   "source": [
    "train_model(LeNet_model, X_train, y_train, X_test, y_test)"
   ]
  },
  {
   "cell_type": "code",
   "execution_count": null,
   "id": "245d29e2",
   "metadata": {},
   "outputs": [],
   "source": []
  }
 ],
 "metadata": {
  "kernelspec": {
   "display_name": "Python 3 (ipykernel)",
   "language": "python",
   "name": "python3"
  },
  "language_info": {
   "codemirror_mode": {
    "name": "ipython",
    "version": 3
   },
   "file_extension": ".py",
   "mimetype": "text/x-python",
   "name": "python",
   "nbconvert_exporter": "python",
   "pygments_lexer": "ipython3",
   "version": "3.9.7"
  }
 },
 "nbformat": 4,
 "nbformat_minor": 5
}
