{
 "cells": [
  {
   "cell_type": "code",
   "execution_count": 1,
   "id": "5c7aa741",
   "metadata": {},
   "outputs": [
    {
     "name": "stderr",
     "output_type": "stream",
     "text": [
      "2022-06-11 00:17:14.796126: W tensorflow/stream_executor/platform/default/dso_loader.cc:64] Could not load dynamic library 'libcudart.so.11.0'; dlerror: libcudart.so.11.0: cannot open shared object file: No such file or directory\n",
      "2022-06-11 00:17:14.796157: I tensorflow/stream_executor/cuda/cudart_stub.cc:29] Ignore above cudart dlerror if you do not have a GPU set up on your machine.\n"
     ]
    }
   ],
   "source": [
    "import tensorflow \n",
    "from tensorflow.keras.datasets import mnist"
   ]
  },
  {
   "cell_type": "code",
   "execution_count": 2,
   "id": "facc9927",
   "metadata": {},
   "outputs": [],
   "source": [
    "(X_train, y_train), (X_test, y_test) = mnist.load_data()"
   ]
  },
  {
   "cell_type": "code",
   "execution_count": 3,
   "id": "d75bb90f",
   "metadata": {},
   "outputs": [],
   "source": [
    "import matplotlib.pyplot as plt \n",
    "import random"
   ]
  },
  {
   "cell_type": "code",
   "execution_count": 4,
   "id": "35fb180b",
   "metadata": {},
   "outputs": [],
   "source": [
    "from tensorflow.keras.utils import to_categorical"
   ]
  },
  {
   "cell_type": "code",
   "execution_count": 5,
   "id": "bfd9ac0d",
   "metadata": {},
   "outputs": [],
   "source": [
    "def preprocess_data(X_train, y_train, X_test, y_test):\n",
    "\t# reshape images to the the required size by Keras\n",
    "  \tX_train = X_train.reshape(X_train.shape[0], X_train.shape[1], X_train.shape[2], 1)\n",
    "  \tX_test = X_test.reshape(X_test.shape[0], X_test.shape[1], X_test.shape[2], 1)\n",
    "  \t# convert from integers to floats\n",
    "  \tX_train = X_train.astype('float32')\n",
    "  \tX_test = X_test.astype('float32')\n",
    "  \t# normalize to range 0-1\n",
    "  \tX_train = X_train/255.0\n",
    "  \tX_test_norm = X_test/255.0\n",
    "  \t# One-hot encoding label \n",
    "  \ty_train = to_categorical(y_train)\n",
    "  \ty_test = to_categorical(y_test)\n",
    "  \treturn X_train, y_train, X_test, y_test "
   ]
  },
  {
   "cell_type": "code",
   "execution_count": 6,
   "id": "8e35846d",
   "metadata": {},
   "outputs": [],
   "source": [
    "from tensorflow.keras.models import Sequential\n",
    "from tensorflow.keras.layers import Conv2D, MaxPooling2D, Dense, Flatten\n",
    "#from tensorflow.keras.optimizers import SGD\n",
    "from tensorflow.keras.metrics import categorical_crossentropy"
   ]
  },
  {
   "cell_type": "code",
   "execution_count": 7,
   "id": "a54ca4b2",
   "metadata": {},
   "outputs": [],
   "source": [
    "def LeNet():\n",
    "  model = Sequential()\n",
    "  model.add(Conv2D(filters = 6, kernel_size = (5,5), padding = 'same', activation = 'relu', input_shape = (28,28,1)))\n",
    "  model.add(MaxPooling2D(pool_size = (2,2)))\n",
    "  model.add(Conv2D(filters = 16, kernel_size = (5,5), activation = 'relu'))\n",
    "  model.add(MaxPooling2D(pool_size = (2,2)))\n",
    "  model.add(Flatten())\n",
    "  model.add(Dense(120, activation = 'relu'))\n",
    "  model.add(Dense(10, activation = 'softmax'))\n",
    "  # compile the model with a loss function, a metric and an optimizer function\n",
    "  #opt = SGD(lr = 0.001, momentum = 0.99, nesterov = True)\n",
    "  #opt = Apollo(learning_rate=0.01, epsilon=1e-6, rebound='belief')\n",
    "  #opt = SGD(learning_rate=0.002, momentum=0.99, nesterov = True)\n",
    "  model.compile(loss = categorical_crossentropy, \n",
    "                optimizer = 'adam', \n",
    "                metrics = ['accuracy']) \n",
    "  return model"
   ]
  },
  {
   "cell_type": "code",
   "execution_count": 8,
   "id": "02fb28a5",
   "metadata": {},
   "outputs": [
    {
     "name": "stdout",
     "output_type": "stream",
     "text": [
      "Model: \"sequential\"\n",
      "_________________________________________________________________\n",
      " Layer (type)                Output Shape              Param #   \n",
      "=================================================================\n",
      " conv2d (Conv2D)             (None, 28, 28, 6)         156       \n",
      "                                                                 \n",
      " max_pooling2d (MaxPooling2D  (None, 14, 14, 6)        0         \n",
      " )                                                               \n",
      "                                                                 \n",
      " conv2d_1 (Conv2D)           (None, 10, 10, 16)        2416      \n",
      "                                                                 \n",
      " max_pooling2d_1 (MaxPooling  (None, 5, 5, 16)         0         \n",
      " 2D)                                                             \n",
      "                                                                 \n",
      " flatten (Flatten)           (None, 400)               0         \n",
      "                                                                 \n",
      " dense (Dense)               (None, 120)               48120     \n",
      "                                                                 \n",
      " dense_1 (Dense)             (None, 10)                1210      \n",
      "                                                                 \n",
      "=================================================================\n",
      "Total params: 51,902\n",
      "Trainable params: 51,902\n",
      "Non-trainable params: 0\n",
      "_________________________________________________________________\n"
     ]
    },
    {
     "name": "stderr",
     "output_type": "stream",
     "text": [
      "2022-06-11 00:17:16.899489: W tensorflow/stream_executor/platform/default/dso_loader.cc:64] Could not load dynamic library 'libcuda.so.1'; dlerror: libcuda.so.1: cannot open shared object file: No such file or directory\n",
      "2022-06-11 00:17:16.899528: W tensorflow/stream_executor/cuda/cuda_driver.cc:269] failed call to cuInit: UNKNOWN ERROR (303)\n",
      "2022-06-11 00:17:16.899554: I tensorflow/stream_executor/cuda/cuda_diagnostics.cc:156] kernel driver does not appear to be running on this host (ruslan-Inspiron-5770): /proc/driver/nvidia/version does not exist\n",
      "2022-06-11 00:17:16.899750: I tensorflow/core/platform/cpu_feature_guard.cc:151] This TensorFlow binary is optimized with oneAPI Deep Neural Network Library (oneDNN) to use the following CPU instructions in performance-critical operations:  AVX2 FMA\n",
      "To enable them in other operations, rebuild TensorFlow with the appropriate compiler flags.\n"
     ]
    }
   ],
   "source": [
    "LeNet_model = LeNet()\n",
    "LeNet_model.summary()"
   ]
  },
  {
   "cell_type": "code",
   "execution_count": 9,
   "id": "0e0460e3",
   "metadata": {},
   "outputs": [],
   "source": [
    "def train_model(model, X_train, y_train, X_test, y_test, epochs = 10, batch_size = 128):\n",
    "  \t# Rescaling all training and testing data\n",
    "  \tX_train, y_train, X_test, y_test = preprocess_data(X_train, y_train, X_test, y_test)\n",
    "  \t# Fitting the model\n",
    "  \thistory = model.fit(X_train, y_train, epochs = epochs, batch_size = batch_size, steps_per_epoch = X_train.shape[0]//batch_size, validation_data = (X_test, y_test), validation_steps = X_test.shape[0]//batch_size, verbose = 1)\n",
    "  \t# evaluate the model\n",
    "  \t_, acc = model.evaluate(X_test, y_test, verbose = 1)\n",
    "  \tprint('%.3f' % (acc * 100.0))\n",
    "  \tsummary_history(history)"
   ]
  },
  {
   "cell_type": "code",
   "execution_count": 10,
   "id": "d0024096",
   "metadata": {},
   "outputs": [
    {
     "name": "stdout",
     "output_type": "stream",
     "text": [
      "Epoch 1/10\n"
     ]
    },
    {
     "name": "stderr",
     "output_type": "stream",
     "text": [
      "2022-06-11 00:17:17.301441: W tensorflow/core/framework/cpu_allocator_impl.cc:82] Allocation of 188160000 exceeds 10% of free system memory.\n"
     ]
    },
    {
     "name": "stdout",
     "output_type": "stream",
     "text": [
      "468/468 [==============================] - 11s 23ms/step - loss: 0.3166 - accuracy: 0.9095 - val_loss: 11.7743 - val_accuracy: 0.9714\n",
      "Epoch 2/10\n",
      "468/468 [==============================] - 12s 25ms/step - loss: 0.0798 - accuracy: 0.9752 - val_loss: 6.8669 - val_accuracy: 0.9824\n",
      "Epoch 3/10\n",
      "468/468 [==============================] - 12s 27ms/step - loss: 0.0569 - accuracy: 0.9829 - val_loss: 5.8115 - val_accuracy: 0.9857\n",
      "Epoch 4/10\n",
      "468/468 [==============================] - 12s 25ms/step - loss: 0.0456 - accuracy: 0.9860 - val_loss: 5.1525 - val_accuracy: 0.9879\n",
      "Epoch 5/10\n",
      "468/468 [==============================] - 12s 25ms/step - loss: 0.0376 - accuracy: 0.9882 - val_loss: 5.9091 - val_accuracy: 0.9873\n",
      "Epoch 6/10\n",
      "468/468 [==============================] - 12s 25ms/step - loss: 0.0309 - accuracy: 0.9901 - val_loss: 5.9989 - val_accuracy: 0.9877\n",
      "Epoch 7/10\n",
      "468/468 [==============================] - 11s 25ms/step - loss: 0.0272 - accuracy: 0.9914 - val_loss: 4.4705 - val_accuracy: 0.9898\n",
      "Epoch 8/10\n",
      "468/468 [==============================] - 12s 25ms/step - loss: 0.0239 - accuracy: 0.9926 - val_loss: 6.5908 - val_accuracy: 0.9878\n",
      "Epoch 9/10\n",
      "468/468 [==============================] - 12s 25ms/step - loss: 0.0204 - accuracy: 0.9935 - val_loss: 6.4511 - val_accuracy: 0.9887\n",
      "Epoch 10/10\n",
      "468/468 [==============================] - 12s 25ms/step - loss: 0.0180 - accuracy: 0.9943 - val_loss: 7.0422 - val_accuracy: 0.9871\n",
      "313/313 [==============================] - 1s 4ms/step - loss: 7.0309 - accuracy: 0.9871\n",
      "98.710\n"
     ]
    },
    {
     "ename": "NameError",
     "evalue": "name 'summary_history' is not defined",
     "output_type": "error",
     "traceback": [
      "\u001b[0;31m---------------------------------------------------------------------------\u001b[0m",
      "\u001b[0;31mNameError\u001b[0m                                 Traceback (most recent call last)",
      "\u001b[0;32m/tmp/ipykernel_48722/2843570342.py\u001b[0m in \u001b[0;36m<module>\u001b[0;34m\u001b[0m\n\u001b[0;32m----> 1\u001b[0;31m \u001b[0mtrain_model\u001b[0m\u001b[0;34m(\u001b[0m\u001b[0mLeNet_model\u001b[0m\u001b[0;34m,\u001b[0m \u001b[0mX_train\u001b[0m\u001b[0;34m,\u001b[0m \u001b[0my_train\u001b[0m\u001b[0;34m,\u001b[0m \u001b[0mX_test\u001b[0m\u001b[0;34m,\u001b[0m \u001b[0my_test\u001b[0m\u001b[0;34m)\u001b[0m\u001b[0;34m\u001b[0m\u001b[0;34m\u001b[0m\u001b[0m\n\u001b[0m",
      "\u001b[0;32m/tmp/ipykernel_48722/3458355887.py\u001b[0m in \u001b[0;36mtrain_model\u001b[0;34m(model, X_train, y_train, X_test, y_test, epochs, batch_size)\u001b[0m\n\u001b[1;32m      7\u001b[0m         \u001b[0m_\u001b[0m\u001b[0;34m,\u001b[0m \u001b[0macc\u001b[0m \u001b[0;34m=\u001b[0m \u001b[0mmodel\u001b[0m\u001b[0;34m.\u001b[0m\u001b[0mevaluate\u001b[0m\u001b[0;34m(\u001b[0m\u001b[0mX_test\u001b[0m\u001b[0;34m,\u001b[0m \u001b[0my_test\u001b[0m\u001b[0;34m,\u001b[0m \u001b[0mverbose\u001b[0m \u001b[0;34m=\u001b[0m \u001b[0;36m1\u001b[0m\u001b[0;34m)\u001b[0m\u001b[0;34m\u001b[0m\u001b[0;34m\u001b[0m\u001b[0m\n\u001b[1;32m      8\u001b[0m         \u001b[0mprint\u001b[0m\u001b[0;34m(\u001b[0m\u001b[0;34m'%.3f'\u001b[0m \u001b[0;34m%\u001b[0m \u001b[0;34m(\u001b[0m\u001b[0macc\u001b[0m \u001b[0;34m*\u001b[0m \u001b[0;36m100.0\u001b[0m\u001b[0;34m)\u001b[0m\u001b[0;34m)\u001b[0m\u001b[0;34m\u001b[0m\u001b[0;34m\u001b[0m\u001b[0m\n\u001b[0;32m----> 9\u001b[0;31m         \u001b[0msummary_history\u001b[0m\u001b[0;34m(\u001b[0m\u001b[0mhistory\u001b[0m\u001b[0;34m)\u001b[0m\u001b[0;34m\u001b[0m\u001b[0;34m\u001b[0m\u001b[0m\n\u001b[0m",
      "\u001b[0;31mNameError\u001b[0m: name 'summary_history' is not defined"
     ]
    }
   ],
   "source": [
    "train_model(LeNet_model, X_train, y_train, X_test, y_test)"
   ]
  },
  {
   "cell_type": "code",
   "execution_count": null,
   "id": "73d6e244",
   "metadata": {},
   "outputs": [],
   "source": []
  }
 ],
 "metadata": {
  "kernelspec": {
   "display_name": "Python 3 (ipykernel)",
   "language": "python",
   "name": "python3"
  },
  "language_info": {
   "codemirror_mode": {
    "name": "ipython",
    "version": 3
   },
   "file_extension": ".py",
   "mimetype": "text/x-python",
   "name": "python",
   "nbconvert_exporter": "python",
   "pygments_lexer": "ipython3",
   "version": "3.9.7"
  }
 },
 "nbformat": 4,
 "nbformat_minor": 5
}
