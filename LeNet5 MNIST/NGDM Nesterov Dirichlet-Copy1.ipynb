{
 "cells": [
  {
   "cell_type": "code",
   "execution_count": 1,
   "id": "4badcc5c",
   "metadata": {},
   "outputs": [
    {
     "name": "stderr",
     "output_type": "stream",
     "text": [
      "2022-07-06 15:20:24.244017: W tensorflow/stream_executor/platform/default/dso_loader.cc:64] Could not load dynamic library 'libcudart.so.11.0'; dlerror: libcudart.so.11.0: cannot open shared object file: No such file or directory\n",
      "2022-07-06 15:20:24.244049: I tensorflow/stream_executor/cuda/cudart_stub.cc:29] Ignore above cudart dlerror if you do not have a GPU set up on your machine.\n"
     ]
    }
   ],
   "source": [
    "from tensorflow import keras\n",
    "import tensorflow as tf \n",
    "# Common imports\n",
    "import os\n",
    "import numpy as np\n",
    "\n",
    "from tensorflow.python.keras.models import Sequential\n",
    "from tensorflow.python.keras.layers import Flatten\n",
    "from tensorflow.python.keras.layers import Dense, Dropout\n",
    "from tensorflow.python.keras.layers import Activation\n",
    "from tensorflow.keras.layers import BatchNormalization"
   ]
  },
  {
   "cell_type": "code",
   "execution_count": 2,
   "id": "a542f3d1",
   "metadata": {},
   "outputs": [],
   "source": [
    "(x_train, y_train), (x_test, y_test) = tf.keras.datasets.mnist.load_data()\n",
    "\n",
    "# Cast the records into float values\n",
    "x_train = x_train.astype('float32')\n",
    "x_test = x_test.astype('float32')"
   ]
  },
  {
   "cell_type": "code",
   "execution_count": 3,
   "id": "c730891c",
   "metadata": {},
   "outputs": [],
   "source": [
    "gray_scale = 255\n",
    "x_train /= gray_scale\n",
    "x_test /= gray_scale"
   ]
  },
  {
   "cell_type": "code",
   "execution_count": 4,
   "id": "d325d458",
   "metadata": {},
   "outputs": [
    {
     "name": "stderr",
     "output_type": "stream",
     "text": [
      "2022-07-06 15:20:26.134230: W tensorflow/stream_executor/platform/default/dso_loader.cc:64] Could not load dynamic library 'libcuda.so.1'; dlerror: libcuda.so.1: cannot open shared object file: No such file or directory\n",
      "2022-07-06 15:20:26.134271: W tensorflow/stream_executor/cuda/cuda_driver.cc:269] failed call to cuInit: UNKNOWN ERROR (303)\n",
      "2022-07-06 15:20:26.134293: I tensorflow/stream_executor/cuda/cuda_diagnostics.cc:156] kernel driver does not appear to be running on this host (ruslan-Inspiron-5770): /proc/driver/nvidia/version does not exist\n",
      "2022-07-06 15:20:26.134619: I tensorflow/core/platform/cpu_feature_guard.cc:151] This TensorFlow binary is optimized with oneAPI Deep Neural Network Library (oneDNN) to use the following CPU instructions in performance-critical operations:  AVX2 FMA\n",
      "To enable them in other operations, rebuild TensorFlow with the appropriate compiler flags.\n"
     ]
    }
   ],
   "source": [
    "model = Sequential([\n",
    "    \n",
    "    # reshape 28 row * 28 column data to 28*28 rows\n",
    "    Flatten(input_shape=(28, 28)),\n",
    "    \n",
    "      # dense layer 1\n",
    "    Dense(512, activation='relu'),\n",
    "    BatchNormalization(),  \n",
    "    Dropout(0.2),\n",
    "    # dense layer 2\n",
    "    Dense(128, activation='relu'), \n",
    "    BatchNormalization(),  \n",
    "    Dropout(0.2),\n",
    "      # output layer\n",
    "    Dense(10, activation='softmax'),  \n",
    "])"
   ]
  },
  {
   "cell_type": "code",
   "execution_count": 5,
   "id": "b0c86ea3",
   "metadata": {},
   "outputs": [],
   "source": [
    "from ngd import*"
   ]
  },
  {
   "cell_type": "code",
   "execution_count": 6,
   "id": "3c90dbbc",
   "metadata": {},
   "outputs": [],
   "source": [
    "optimizer = NGD_Dirichlet(learning_rate=0.1, momentum=0.9, nesterov = True)"
   ]
  },
  {
   "cell_type": "code",
   "execution_count": 7,
   "id": "7ee147c4",
   "metadata": {},
   "outputs": [],
   "source": [
    "model.compile(optimizer=optimizer,\n",
    "              loss='sparse_categorical_crossentropy',\n",
    "              metrics=['accuracy'])"
   ]
  },
  {
   "cell_type": "code",
   "execution_count": 8,
   "id": "ec4fc58a",
   "metadata": {
    "scrolled": true
   },
   "outputs": [
    {
     "name": "stderr",
     "output_type": "stream",
     "text": [
      "2022-07-06 15:20:26.223435: W tensorflow/core/framework/cpu_allocator_impl.cc:82] Allocation of 150528000 exceeds 10% of free system memory.\n"
     ]
    },
    {
     "name": "stdout",
     "output_type": "stream",
     "text": [
      "Epoch 1/20\n",
      "24/24 [==============================] - 2s 54ms/step - loss: 0.5050 - accuracy: 0.8465 - val_loss: 0.6614 - val_accuracy: 0.8599\n",
      "Epoch 2/20\n",
      "24/24 [==============================] - 1s 47ms/step - loss: 0.1887 - accuracy: 0.9435 - val_loss: 0.5390 - val_accuracy: 0.9047\n",
      "Epoch 3/20\n",
      "24/24 [==============================] - 1s 47ms/step - loss: 0.1349 - accuracy: 0.9599 - val_loss: 0.4780 - val_accuracy: 0.9147\n",
      "Epoch 4/20\n",
      "24/24 [==============================] - 1s 49ms/step - loss: 0.1082 - accuracy: 0.9671 - val_loss: 0.3883 - val_accuracy: 0.9327\n",
      "Epoch 5/20\n",
      "24/24 [==============================] - 1s 48ms/step - loss: 0.0885 - accuracy: 0.9740 - val_loss: 0.3342 - val_accuracy: 0.9367\n",
      "Epoch 6/20\n",
      "24/24 [==============================] - 1s 48ms/step - loss: 0.0753 - accuracy: 0.9775 - val_loss: 0.2756 - val_accuracy: 0.9468\n",
      "Epoch 7/20\n",
      "24/24 [==============================] - 1s 50ms/step - loss: 0.0644 - accuracy: 0.9809 - val_loss: 0.2222 - val_accuracy: 0.9538\n",
      "Epoch 8/20\n",
      "24/24 [==============================] - 1s 51ms/step - loss: 0.0540 - accuracy: 0.9833 - val_loss: 0.1770 - val_accuracy: 0.9617\n",
      "Epoch 9/20\n",
      "24/24 [==============================] - 1s 50ms/step - loss: 0.0472 - accuracy: 0.9855 - val_loss: 0.1528 - val_accuracy: 0.9646\n",
      "Epoch 10/20\n",
      "24/24 [==============================] - 1s 56ms/step - loss: 0.0416 - accuracy: 0.9871 - val_loss: 0.1280 - val_accuracy: 0.9660\n",
      "Epoch 11/20\n",
      "24/24 [==============================] - 1s 62ms/step - loss: 0.0367 - accuracy: 0.9891 - val_loss: 0.1079 - val_accuracy: 0.9710\n",
      "Epoch 12/20\n",
      "24/24 [==============================] - 1s 51ms/step - loss: 0.0315 - accuracy: 0.9906 - val_loss: 0.1012 - val_accuracy: 0.9711\n",
      "Epoch 13/20\n",
      "24/24 [==============================] - 1s 56ms/step - loss: 0.0301 - accuracy: 0.9912 - val_loss: 0.0923 - val_accuracy: 0.9726\n",
      "Epoch 14/20\n",
      "24/24 [==============================] - 1s 50ms/step - loss: 0.0279 - accuracy: 0.9915 - val_loss: 0.0825 - val_accuracy: 0.9750\n",
      "Epoch 15/20\n",
      "24/24 [==============================] - 1s 49ms/step - loss: 0.0244 - accuracy: 0.9929 - val_loss: 0.0813 - val_accuracy: 0.9757\n",
      "Epoch 16/20\n",
      "24/24 [==============================] - 1s 49ms/step - loss: 0.0235 - accuracy: 0.9926 - val_loss: 0.0788 - val_accuracy: 0.9762\n",
      "Epoch 17/20\n",
      "24/24 [==============================] - 1s 49ms/step - loss: 0.0199 - accuracy: 0.9940 - val_loss: 0.0769 - val_accuracy: 0.9761\n",
      "Epoch 18/20\n",
      "24/24 [==============================] - 1s 49ms/step - loss: 0.0195 - accuracy: 0.9943 - val_loss: 0.0761 - val_accuracy: 0.9772\n",
      "Epoch 19/20\n",
      "24/24 [==============================] - 1s 49ms/step - loss: 0.0173 - accuracy: 0.9951 - val_loss: 0.0742 - val_accuracy: 0.9782\n",
      "Epoch 20/20\n",
      "24/24 [==============================] - 1s 50ms/step - loss: 0.0158 - accuracy: 0.9951 - val_loss: 0.0742 - val_accuracy: 0.9779\n",
      "313/313 [==============================] - 1s 2ms/step - loss: 0.0598 - accuracy: 0.9810\n"
     ]
    },
    {
     "data": {
      "text/plain": [
       "[0.05984874814748764, 0.9810000061988831]"
      ]
     },
     "execution_count": 8,
     "metadata": {},
     "output_type": "execute_result"
    }
   ],
   "source": [
    "history = model.fit(x_train, y_train, epochs=20, \n",
    "          batch_size=2000, \n",
    "          validation_split=0.2)\n",
    "model.evaluate(x_test, y_test)"
   ]
  },
  {
   "cell_type": "code",
   "execution_count": null,
   "id": "74170eeb",
   "metadata": {},
   "outputs": [],
   "source": []
  }
 ],
 "metadata": {
  "kernelspec": {
   "display_name": "Python 3 (ipykernel)",
   "language": "python",
   "name": "python3"
  },
  "language_info": {
   "codemirror_mode": {
    "name": "ipython",
    "version": 3
   },
   "file_extension": ".py",
   "mimetype": "text/x-python",
   "name": "python",
   "nbconvert_exporter": "python",
   "pygments_lexer": "ipython3",
   "version": "3.9.7"
  }
 },
 "nbformat": 4,
 "nbformat_minor": 5
}
