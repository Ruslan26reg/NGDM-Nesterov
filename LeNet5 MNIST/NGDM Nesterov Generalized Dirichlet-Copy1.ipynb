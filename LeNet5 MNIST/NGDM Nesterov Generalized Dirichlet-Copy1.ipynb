{
 "cells": [
  {
   "cell_type": "code",
   "execution_count": 1,
   "id": "4badcc5c",
   "metadata": {},
   "outputs": [
    {
     "name": "stderr",
     "output_type": "stream",
     "text": [
      "2022-07-06 15:36:26.396629: W tensorflow/stream_executor/platform/default/dso_loader.cc:64] Could not load dynamic library 'libcudart.so.11.0'; dlerror: libcudart.so.11.0: cannot open shared object file: No such file or directory\n",
      "2022-07-06 15:36:26.396664: I tensorflow/stream_executor/cuda/cudart_stub.cc:29] Ignore above cudart dlerror if you do not have a GPU set up on your machine.\n"
     ]
    }
   ],
   "source": [
    "from tensorflow import keras\n",
    "import tensorflow as tf \n",
    "# Common imports\n",
    "import os\n",
    "import numpy as np\n",
    "\n",
    "from tensorflow.python.keras.models import Sequential\n",
    "from tensorflow.python.keras.layers import Flatten\n",
    "from tensorflow.python.keras.layers import Dense, Dropout\n",
    "from tensorflow.python.keras.layers import Activation\n",
    "from tensorflow.keras.layers import BatchNormalization"
   ]
  },
  {
   "cell_type": "code",
   "execution_count": 2,
   "id": "a542f3d1",
   "metadata": {},
   "outputs": [],
   "source": [
    "(x_train, y_train), (x_test, y_test) = tf.keras.datasets.mnist.load_data()\n",
    "\n",
    "# Cast the records into float values\n",
    "x_train = x_train.astype('float32')\n",
    "x_test = x_test.astype('float32')"
   ]
  },
  {
   "cell_type": "code",
   "execution_count": 3,
   "id": "c730891c",
   "metadata": {},
   "outputs": [],
   "source": [
    "gray_scale = 255\n",
    "x_train /= gray_scale\n",
    "x_test /= gray_scale"
   ]
  },
  {
   "cell_type": "code",
   "execution_count": 4,
   "id": "d325d458",
   "metadata": {},
   "outputs": [
    {
     "name": "stderr",
     "output_type": "stream",
     "text": [
      "2022-07-06 15:36:28.402902: W tensorflow/stream_executor/platform/default/dso_loader.cc:64] Could not load dynamic library 'libcuda.so.1'; dlerror: libcuda.so.1: cannot open shared object file: No such file or directory\n",
      "2022-07-06 15:36:28.402930: W tensorflow/stream_executor/cuda/cuda_driver.cc:269] failed call to cuInit: UNKNOWN ERROR (303)\n",
      "2022-07-06 15:36:28.402947: I tensorflow/stream_executor/cuda/cuda_diagnostics.cc:156] kernel driver does not appear to be running on this host (ruslan-Inspiron-5770): /proc/driver/nvidia/version does not exist\n",
      "2022-07-06 15:36:28.403225: I tensorflow/core/platform/cpu_feature_guard.cc:151] This TensorFlow binary is optimized with oneAPI Deep Neural Network Library (oneDNN) to use the following CPU instructions in performance-critical operations:  AVX2 FMA\n",
      "To enable them in other operations, rebuild TensorFlow with the appropriate compiler flags.\n"
     ]
    }
   ],
   "source": [
    "model = Sequential([\n",
    "    \n",
    "    # reshape 28 row * 28 column data to 28*28 rows\n",
    "    Flatten(input_shape=(28, 28)),\n",
    "    \n",
    "      # dense layer 1\n",
    "    Dense(512, activation='relu'),\n",
    "    BatchNormalization(),  \n",
    "    Dropout(0.2),\n",
    "    # dense layer 2\n",
    "    Dense(128, activation='relu'), \n",
    "    BatchNormalization(),  \n",
    "    Dropout(0.2),\n",
    "      # output layer\n",
    "    Dense(10, activation='softmax'),  \n",
    "])"
   ]
  },
  {
   "cell_type": "code",
   "execution_count": 5,
   "id": "b0c86ea3",
   "metadata": {},
   "outputs": [],
   "source": [
    "from ngd import*"
   ]
  },
  {
   "cell_type": "code",
   "execution_count": 6,
   "id": "3c90dbbc",
   "metadata": {},
   "outputs": [],
   "source": [
    "optimizer = NGD_GeneralizedDirichlet(learning_rate=0.1, momentum=0.95, nesterov = True)"
   ]
  },
  {
   "cell_type": "code",
   "execution_count": 7,
   "id": "7ee147c4",
   "metadata": {},
   "outputs": [],
   "source": [
    "model.compile(optimizer=optimizer,\n",
    "              loss='sparse_categorical_crossentropy',\n",
    "              metrics=['accuracy'])"
   ]
  },
  {
   "cell_type": "code",
   "execution_count": 8,
   "id": "ec4fc58a",
   "metadata": {
    "scrolled": true
   },
   "outputs": [
    {
     "name": "stderr",
     "output_type": "stream",
     "text": [
      "2022-07-06 15:36:28.494703: W tensorflow/core/framework/cpu_allocator_impl.cc:82] Allocation of 150528000 exceeds 10% of free system memory.\n"
     ]
    },
    {
     "name": "stdout",
     "output_type": "stream",
     "text": [
      "Epoch 1/20\n",
      "24/24 [==============================] - 2s 53ms/step - loss: 0.5065 - accuracy: 0.8464 - val_loss: 0.5334 - val_accuracy: 0.8673\n",
      "Epoch 2/20\n",
      "24/24 [==============================] - 1s 50ms/step - loss: 0.1861 - accuracy: 0.9438 - val_loss: 0.3174 - val_accuracy: 0.9187\n",
      "Epoch 3/20\n",
      "24/24 [==============================] - 1s 50ms/step - loss: 0.1309 - accuracy: 0.9603 - val_loss: 0.2311 - val_accuracy: 0.9409\n",
      "Epoch 4/20\n",
      "24/24 [==============================] - 1s 49ms/step - loss: 0.0979 - accuracy: 0.9697 - val_loss: 0.1954 - val_accuracy: 0.9529\n",
      "Epoch 5/20\n",
      "24/24 [==============================] - 1s 47ms/step - loss: 0.0794 - accuracy: 0.9758 - val_loss: 0.1677 - val_accuracy: 0.9585\n",
      "Epoch 6/20\n",
      "24/24 [==============================] - 1s 47ms/step - loss: 0.0663 - accuracy: 0.9791 - val_loss: 0.1347 - val_accuracy: 0.9663\n",
      "Epoch 7/20\n",
      "24/24 [==============================] - 1s 51ms/step - loss: 0.0560 - accuracy: 0.9822 - val_loss: 0.1184 - val_accuracy: 0.9677\n",
      "Epoch 8/20\n",
      "24/24 [==============================] - 1s 48ms/step - loss: 0.0478 - accuracy: 0.9850 - val_loss: 0.1013 - val_accuracy: 0.9730\n",
      "Epoch 9/20\n",
      "24/24 [==============================] - 1s 49ms/step - loss: 0.0409 - accuracy: 0.9869 - val_loss: 0.0981 - val_accuracy: 0.9723\n",
      "Epoch 10/20\n",
      "24/24 [==============================] - 1s 50ms/step - loss: 0.0377 - accuracy: 0.9883 - val_loss: 0.0880 - val_accuracy: 0.9747\n",
      "Epoch 11/20\n",
      "24/24 [==============================] - 1s 50ms/step - loss: 0.0330 - accuracy: 0.9895 - val_loss: 0.0801 - val_accuracy: 0.9775\n",
      "Epoch 12/20\n",
      "24/24 [==============================] - 1s 48ms/step - loss: 0.0291 - accuracy: 0.9907 - val_loss: 0.0763 - val_accuracy: 0.9771\n",
      "Epoch 13/20\n",
      "24/24 [==============================] - 1s 47ms/step - loss: 0.0258 - accuracy: 0.9915 - val_loss: 0.0755 - val_accuracy: 0.9773\n",
      "Epoch 14/20\n",
      "24/24 [==============================] - 1s 48ms/step - loss: 0.0230 - accuracy: 0.9928 - val_loss: 0.0724 - val_accuracy: 0.9787\n",
      "Epoch 15/20\n",
      "24/24 [==============================] - 1s 48ms/step - loss: 0.0210 - accuracy: 0.9931 - val_loss: 0.0713 - val_accuracy: 0.9797\n",
      "Epoch 16/20\n",
      "24/24 [==============================] - 1s 48ms/step - loss: 0.0182 - accuracy: 0.9941 - val_loss: 0.0741 - val_accuracy: 0.9788\n",
      "Epoch 17/20\n",
      "24/24 [==============================] - 1s 48ms/step - loss: 0.0208 - accuracy: 0.9933 - val_loss: 0.0731 - val_accuracy: 0.9794\n",
      "Epoch 18/20\n",
      "24/24 [==============================] - 1s 48ms/step - loss: 0.0173 - accuracy: 0.9944 - val_loss: 0.0734 - val_accuracy: 0.9803\n",
      "Epoch 19/20\n",
      "24/24 [==============================] - 1s 48ms/step - loss: 0.0169 - accuracy: 0.9944 - val_loss: 0.0762 - val_accuracy: 0.9789\n",
      "Epoch 20/20\n",
      "24/24 [==============================] - 1s 47ms/step - loss: 0.0145 - accuracy: 0.9951 - val_loss: 0.0758 - val_accuracy: 0.9799\n",
      "313/313 [==============================] - 1s 2ms/step - loss: 0.0653 - accuracy: 0.9814\n"
     ]
    },
    {
     "data": {
      "text/plain": [
       "[0.06527687609195709, 0.9814000129699707]"
      ]
     },
     "execution_count": 8,
     "metadata": {},
     "output_type": "execute_result"
    }
   ],
   "source": [
    "history = model.fit(x_train, y_train, epochs=20, \n",
    "          batch_size=2000, \n",
    "          validation_split=0.2)\n",
    "model.evaluate(x_test, y_test)"
   ]
  },
  {
   "cell_type": "code",
   "execution_count": null,
   "id": "74170eeb",
   "metadata": {},
   "outputs": [],
   "source": []
  }
 ],
 "metadata": {
  "kernelspec": {
   "display_name": "Python 3 (ipykernel)",
   "language": "python",
   "name": "python3"
  },
  "language_info": {
   "codemirror_mode": {
    "name": "ipython",
    "version": 3
   },
   "file_extension": ".py",
   "mimetype": "text/x-python",
   "name": "python",
   "nbconvert_exporter": "python",
   "pygments_lexer": "ipython3",
   "version": "3.9.7"
  }
 },
 "nbformat": 4,
 "nbformat_minor": 5
}
