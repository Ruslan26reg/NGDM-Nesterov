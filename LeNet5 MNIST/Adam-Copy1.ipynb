{
 "cells": [
  {
   "cell_type": "code",
   "execution_count": 1,
   "id": "a6287e1d",
   "metadata": {},
   "outputs": [
    {
     "name": "stderr",
     "output_type": "stream",
     "text": [
      "2022-07-06 15:37:21.128232: W tensorflow/stream_executor/platform/default/dso_loader.cc:64] Could not load dynamic library 'libcudart.so.11.0'; dlerror: libcudart.so.11.0: cannot open shared object file: No such file or directory\n",
      "2022-07-06 15:37:21.128263: I tensorflow/stream_executor/cuda/cudart_stub.cc:29] Ignore above cudart dlerror if you do not have a GPU set up on your machine.\n"
     ]
    }
   ],
   "source": [
    "from tensorflow import keras\n",
    "import tensorflow as tf \n",
    "# Common imports\n",
    "import os\n",
    "import numpy as np\n",
    "\n",
    "from tensorflow.keras.models import Sequential\n",
    "from tensorflow.keras.layers import Flatten\n",
    "from tensorflow.keras.layers import Dense, Dropout\n",
    "from tensorflow.keras.layers import Activation\n",
    "from tensorflow.keras.layers import BatchNormalization"
   ]
  },
  {
   "cell_type": "code",
   "execution_count": 2,
   "id": "94d9495b",
   "metadata": {},
   "outputs": [],
   "source": [
    "from Apollo_tf import*\n",
    "from ngd import*"
   ]
  },
  {
   "cell_type": "code",
   "execution_count": 3,
   "id": "c3254456",
   "metadata": {},
   "outputs": [],
   "source": [
    "(x_train, y_train), (x_test, y_test) = tf.keras.datasets.mnist.load_data()"
   ]
  },
  {
   "cell_type": "code",
   "execution_count": 4,
   "id": "c853e3c5",
   "metadata": {},
   "outputs": [],
   "source": [
    "x_train = x_train.astype('float32')\n",
    "x_test = x_test.astype('float32')"
   ]
  },
  {
   "cell_type": "code",
   "execution_count": 5,
   "id": "bcfbe4a3",
   "metadata": {},
   "outputs": [],
   "source": [
    "gray_scale = 255\n",
    "x_train /= gray_scale\n",
    "x_test /= gray_scale"
   ]
  },
  {
   "cell_type": "code",
   "execution_count": 6,
   "id": "bd806726",
   "metadata": {},
   "outputs": [
    {
     "name": "stderr",
     "output_type": "stream",
     "text": [
      "2022-07-06 15:37:23.065468: W tensorflow/stream_executor/platform/default/dso_loader.cc:64] Could not load dynamic library 'libcuda.so.1'; dlerror: libcuda.so.1: cannot open shared object file: No such file or directory\n",
      "2022-07-06 15:37:23.065508: W tensorflow/stream_executor/cuda/cuda_driver.cc:269] failed call to cuInit: UNKNOWN ERROR (303)\n",
      "2022-07-06 15:37:23.065531: I tensorflow/stream_executor/cuda/cuda_diagnostics.cc:156] kernel driver does not appear to be running on this host (ruslan-Inspiron-5770): /proc/driver/nvidia/version does not exist\n",
      "2022-07-06 15:37:23.065750: I tensorflow/core/platform/cpu_feature_guard.cc:151] This TensorFlow binary is optimized with oneAPI Deep Neural Network Library (oneDNN) to use the following CPU instructions in performance-critical operations:  AVX2 FMA\n",
      "To enable them in other operations, rebuild TensorFlow with the appropriate compiler flags.\n"
     ]
    }
   ],
   "source": [
    "model = Sequential([\n",
    "    \n",
    "    # reshape 28 row * 28 column data to 28*28 rows\n",
    "    Flatten(input_shape=(28, 28)),\n",
    "    \n",
    "      # dense layer 1\n",
    "    Dense(512, activation='relu'),\n",
    "    BatchNormalization(),  \n",
    "    Dropout(0.2),\n",
    "    # dense layer 2\n",
    "    Dense(128, activation='relu'), \n",
    "    BatchNormalization(),  \n",
    "    Dropout(0.2),\n",
    "      # output layer\n",
    "    Dense(10, activation='softmax'),  \n",
    "])"
   ]
  },
  {
   "cell_type": "code",
   "execution_count": 7,
   "id": "42412d5d",
   "metadata": {},
   "outputs": [],
   "source": [
    "model.compile(optimizer='adam',\n",
    "              loss='sparse_categorical_crossentropy',\n",
    "              metrics=['accuracy'])"
   ]
  },
  {
   "cell_type": "code",
   "execution_count": 8,
   "id": "edf20316",
   "metadata": {},
   "outputs": [
    {
     "name": "stderr",
     "output_type": "stream",
     "text": [
      "2022-07-06 15:37:23.144568: W tensorflow/core/framework/cpu_allocator_impl.cc:82] Allocation of 150528000 exceeds 10% of free system memory.\n"
     ]
    },
    {
     "name": "stdout",
     "output_type": "stream",
     "text": [
      "Epoch 1/20\n",
      "24/24 [==============================] - 2s 52ms/step - loss: 0.6341 - accuracy: 0.8075 - val_loss: 0.9703 - val_accuracy: 0.8439\n",
      "Epoch 2/20\n",
      "24/24 [==============================] - 1s 52ms/step - loss: 0.2224 - accuracy: 0.9331 - val_loss: 0.8174 - val_accuracy: 0.9021\n",
      "Epoch 3/20\n",
      "24/24 [==============================] - 1s 52ms/step - loss: 0.1618 - accuracy: 0.9524 - val_loss: 0.7297 - val_accuracy: 0.9087\n",
      "Epoch 4/20\n",
      "24/24 [==============================] - 1s 48ms/step - loss: 0.1273 - accuracy: 0.9632 - val_loss: 0.6416 - val_accuracy: 0.9054\n",
      "Epoch 5/20\n",
      "24/24 [==============================] - 1s 51ms/step - loss: 0.1041 - accuracy: 0.9705 - val_loss: 0.5350 - val_accuracy: 0.9274\n",
      "Epoch 6/20\n",
      "24/24 [==============================] - 1s 54ms/step - loss: 0.0845 - accuracy: 0.9754 - val_loss: 0.4147 - val_accuracy: 0.9438\n",
      "Epoch 7/20\n",
      "24/24 [==============================] - 1s 52ms/step - loss: 0.0717 - accuracy: 0.9787 - val_loss: 0.3385 - val_accuracy: 0.9495\n",
      "Epoch 8/20\n",
      "24/24 [==============================] - 1s 54ms/step - loss: 0.0614 - accuracy: 0.9823 - val_loss: 0.2721 - val_accuracy: 0.9560\n",
      "Epoch 9/20\n",
      "24/24 [==============================] - 1s 49ms/step - loss: 0.0508 - accuracy: 0.9855 - val_loss: 0.2057 - val_accuracy: 0.9643\n",
      "Epoch 10/20\n",
      "24/24 [==============================] - 1s 48ms/step - loss: 0.0439 - accuracy: 0.9879 - val_loss: 0.1667 - val_accuracy: 0.9679\n",
      "Epoch 11/20\n",
      "24/24 [==============================] - 1s 48ms/step - loss: 0.0370 - accuracy: 0.9901 - val_loss: 0.1422 - val_accuracy: 0.9687\n",
      "Epoch 12/20\n",
      "24/24 [==============================] - 1s 49ms/step - loss: 0.0319 - accuracy: 0.9911 - val_loss: 0.1159 - val_accuracy: 0.9713\n",
      "Epoch 13/20\n",
      "24/24 [==============================] - 1s 49ms/step - loss: 0.0278 - accuracy: 0.9927 - val_loss: 0.1049 - val_accuracy: 0.9720\n",
      "Epoch 14/20\n",
      "24/24 [==============================] - 1s 48ms/step - loss: 0.0229 - accuracy: 0.9941 - val_loss: 0.0934 - val_accuracy: 0.9738\n",
      "Epoch 15/20\n",
      "24/24 [==============================] - 1s 52ms/step - loss: 0.0220 - accuracy: 0.9945 - val_loss: 0.0882 - val_accuracy: 0.9752\n",
      "Epoch 16/20\n",
      "24/24 [==============================] - 1s 50ms/step - loss: 0.0190 - accuracy: 0.9951 - val_loss: 0.0811 - val_accuracy: 0.9765\n",
      "Epoch 17/20\n",
      "24/24 [==============================] - 1s 51ms/step - loss: 0.0173 - accuracy: 0.9952 - val_loss: 0.0795 - val_accuracy: 0.9760\n",
      "Epoch 18/20\n",
      "24/24 [==============================] - 1s 50ms/step - loss: 0.0164 - accuracy: 0.9957 - val_loss: 0.0735 - val_accuracy: 0.9784\n",
      "Epoch 19/20\n",
      "24/24 [==============================] - 1s 52ms/step - loss: 0.0151 - accuracy: 0.9959 - val_loss: 0.0788 - val_accuracy: 0.9775\n",
      "Epoch 20/20\n",
      "24/24 [==============================] - 1s 50ms/step - loss: 0.0141 - accuracy: 0.9963 - val_loss: 0.0766 - val_accuracy: 0.9772\n",
      "313/313 [==============================] - 1s 2ms/step - loss: 0.0677 - accuracy: 0.9789\n"
     ]
    },
    {
     "data": {
      "text/plain": [
       "[0.06768476217985153, 0.9789000153541565]"
      ]
     },
     "execution_count": 8,
     "metadata": {},
     "output_type": "execute_result"
    }
   ],
   "source": [
    "history = model.fit(x_train, y_train, epochs=20, \n",
    "          batch_size=2000, \n",
    "          validation_split=0.2)\n",
    "model.evaluate(x_test, y_test)"
   ]
  }
 ],
 "metadata": {
  "kernelspec": {
   "display_name": "Python 3 (ipykernel)",
   "language": "python",
   "name": "python3"
  },
  "language_info": {
   "codemirror_mode": {
    "name": "ipython",
    "version": 3
   },
   "file_extension": ".py",
   "mimetype": "text/x-python",
   "name": "python",
   "nbconvert_exporter": "python",
   "pygments_lexer": "ipython3",
   "version": "3.9.7"
  }
 },
 "nbformat": 4,
 "nbformat_minor": 5
}
